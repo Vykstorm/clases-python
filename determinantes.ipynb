{
 "cells": [
  {
   "cell_type": "code",
   "execution_count": 1,
   "metadata": {},
   "outputs": [],
   "source": [
    "from funciones_matrices import lee_matriz, imprime_matriz"
   ]
  },
  {
   "cell_type": "markdown",
   "metadata": {},
   "source": [
    "<b>Calcular el determinante de una matriz 2x2:</b>"
   ]
  },
  {
   "cell_type": "code",
   "execution_count": 2,
   "metadata": {},
   "outputs": [
    {
     "data": {
      "text/latex": [
       "$$\\quad\\begin{pmatrix}\n",
       "1 & 2\\\\\n",
       "3 & 4\\end{pmatrix}\\quad\n",
       "$$"
      ],
      "text/plain": [
       "<IPython.core.display.Math object>"
      ]
     },
     "metadata": {},
     "output_type": "display_data"
    }
   ],
   "source": [
    "M = [\n",
    "    [1, 2],\n",
    "    [3, 4]\n",
    "]\n",
    "imprime_matriz(M)"
   ]
  },
  {
   "cell_type": "code",
   "execution_count": 3,
   "metadata": {},
   "outputs": [
    {
     "data": {
      "text/plain": [
       "-2"
      ]
     },
     "execution_count": 3,
     "metadata": {},
     "output_type": "execute_result"
    }
   ],
   "source": [
    "M[0][0] * M[1][1] - M[0][1] * M[1][0]"
   ]
  },
  {
   "cell_type": "markdown",
   "metadata": {},
   "source": [
    "<b>Calcular el determinante de una funcion 3x3:</b>"
   ]
  },
  {
   "cell_type": "markdown",
   "metadata": {},
   "source": [
    "Primero creamos una función que calcule el determinante de una matriz 2x2 (tal y como hicimos en el paso anterior)"
   ]
  },
  {
   "cell_type": "code",
   "execution_count": 4,
   "metadata": {},
   "outputs": [],
   "source": [
    "def determinante(M):\n",
    "    return M[0][0] * M[1][1] - M[0][1] * M[1][0]"
   ]
  },
  {
   "cell_type": "markdown",
   "metadata": {},
   "source": [
    "Definimos una función que tome como entrada una matriz 3x3 y un índice de columna \"k\". Esta luego nos devolverá la submatriz 2x2 que resulta de eliminar la primera fila y la columna k-ésima"
   ]
  },
  {
   "cell_type": "code",
   "execution_count": 5,
   "metadata": {},
   "outputs": [],
   "source": [
    "def submatriz(M, k):\n",
    "    S = []\n",
    "    for i in range(1, 3):\n",
    "        fila = []\n",
    "        for j in range(0, 3):\n",
    "            if j == k:\n",
    "                continue\n",
    "            fila.append(M[i][j])\n",
    "        S.append(fila)\n",
    "    return S"
   ]
  },
  {
   "cell_type": "code",
   "execution_count": 6,
   "metadata": {},
   "outputs": [
    {
     "data": {
      "text/latex": [
       "$$\\quad\\begin{pmatrix}\n",
       "1 & 2 & 3\\\\\n",
       "3 & 2 & 1\\\\\n",
       "5 & 7 & 5\\end{pmatrix}\\quad\n",
       "$$"
      ],
      "text/plain": [
       "<IPython.core.display.Math object>"
      ]
     },
     "metadata": {},
     "output_type": "display_data"
    }
   ],
   "source": [
    "matriz = [\n",
    "    [1, 2, 3],\n",
    "    [3, 2, 1],\n",
    "    [5, 7, 5]\n",
    "]\n",
    "imprime_matriz(matriz)"
   ]
  },
  {
   "cell_type": "code",
   "execution_count": 7,
   "metadata": {},
   "outputs": [
    {
     "data": {
      "text/latex": [
       "$$\\quad\\begin{pmatrix}\n",
       "3 & 1\\\\\n",
       "5 & 5\\end{pmatrix}\\quad\n",
       "$$"
      ],
      "text/plain": [
       "<IPython.core.display.Math object>"
      ]
     },
     "metadata": {},
     "output_type": "display_data"
    }
   ],
   "source": [
    "imprime_matriz(submatriz(matriz, 1))"
   ]
  },
  {
   "cell_type": "code",
   "execution_count": 8,
   "metadata": {},
   "outputs": [
    {
     "data": {
      "text/latex": [
       "$$\\quad\\begin{pmatrix}\n",
       "3 & 2\\\\\n",
       "5 & 7\\end{pmatrix}\\quad\n",
       "$$"
      ],
      "text/plain": [
       "<IPython.core.display.Math object>"
      ]
     },
     "metadata": {},
     "output_type": "display_data"
    }
   ],
   "source": [
    "imprime_matriz(submatriz(matriz, 2))"
   ]
  },
  {
   "cell_type": "markdown",
   "metadata": {},
   "source": [
    "Podemos calcular el determinante de nuestra matriz 3x3 de la siguiente forma:"
   ]
  },
  {
   "cell_type": "code",
   "execution_count": 9,
   "metadata": {},
   "outputs": [
    {
     "data": {
      "text/plain": [
       "16"
      ]
     },
     "execution_count": 9,
     "metadata": {},
     "output_type": "execute_result"
    }
   ],
   "source": [
    "matriz[0][0] * determinante(submatriz(matriz, 0)) -\\\n",
    "matriz[0][1] * determinante(submatriz(matriz, 1)) +\\\n",
    "matriz[0][2] * determinante(submatriz(matriz, 2))"
   ]
  },
  {
   "cell_type": "markdown",
   "metadata": {},
   "source": [
    "Lo anterior se puede reescribir usando un bucle:"
   ]
  },
  {
   "cell_type": "code",
   "execution_count": 10,
   "metadata": {},
   "outputs": [
    {
     "data": {
      "text/plain": [
       "16"
      ]
     },
     "execution_count": 10,
     "metadata": {},
     "output_type": "execute_result"
    }
   ],
   "source": [
    "D = 0\n",
    "for k in range(0, 3):\n",
    "    D += (1 - 2 * (k % 2)) * matriz[0][k] * determinante( submatriz(matriz, k) )\n",
    "D"
   ]
  },
  {
   "cell_type": "markdown",
   "metadata": {},
   "source": [
    "<b>Calcular el determinante de una matriz de orden n</b>"
   ]
  },
  {
   "cell_type": "markdown",
   "metadata": {},
   "source": [
    "Redefinimos la función submatriz para que tome como argumento un matriz de orden n y devuelva una submatriz de orden n-1 eliminando la primera fila y columna k-ésima"
   ]
  },
  {
   "cell_type": "code",
   "execution_count": 11,
   "metadata": {},
   "outputs": [],
   "source": [
    "def submatriz(M, k):\n",
    "    n = len(M)\n",
    "    S = []\n",
    "    for i in range(1, n):\n",
    "        fila = []\n",
    "        for j in range(0, n):\n",
    "            if j == k:\n",
    "                continue\n",
    "            fila.append(M[i][j])\n",
    "        S.append(fila)\n",
    "    return S"
   ]
  },
  {
   "cell_type": "code",
   "execution_count": 12,
   "metadata": {},
   "outputs": [
    {
     "data": {
      "text/latex": [
       "$$\\quad\\begin{pmatrix}\n",
       "2 & 6 & 6 & 1\\\\\n",
       "2 & 5 & 3 & 2\\\\\n",
       "6 & 2 & 4 & 4\\\\\n",
       "7 & 2 & 9 & 1\\end{pmatrix}\\quad\n",
       "$$"
      ],
      "text/plain": [
       "<IPython.core.display.Math object>"
      ]
     },
     "metadata": {},
     "output_type": "display_data"
    }
   ],
   "source": [
    "matriz = [\n",
    "    [2, 6, 6, 1],\n",
    "    [2, 5, 3, 2],\n",
    "    [6, 2, 4, 4],\n",
    "    [7, 2, 9, 1]\n",
    "]\n",
    "imprime_matriz(matriz)"
   ]
  },
  {
   "cell_type": "code",
   "execution_count": 13,
   "metadata": {},
   "outputs": [
    {
     "data": {
      "text/latex": [
       "$$\\quad\\begin{pmatrix}\n",
       "5 & 3 & 2\\\\\n",
       "2 & 4 & 4\\\\\n",
       "2 & 9 & 1\\end{pmatrix}\\quad\n",
       "$$"
      ],
      "text/plain": [
       "<IPython.core.display.Math object>"
      ]
     },
     "metadata": {},
     "output_type": "display_data"
    }
   ],
   "source": [
    "imprime_matriz(submatriz(matriz, 0))"
   ]
  },
  {
   "cell_type": "code",
   "execution_count": 14,
   "metadata": {},
   "outputs": [
    {
     "data": {
      "text/latex": [
       "$$\\quad\\begin{pmatrix}\n",
       "2 & 3 & 2\\\\\n",
       "6 & 4 & 4\\\\\n",
       "7 & 9 & 1\\end{pmatrix}\\quad\n",
       "$$"
      ],
      "text/plain": [
       "<IPython.core.display.Math object>"
      ]
     },
     "metadata": {},
     "output_type": "display_data"
    }
   ],
   "source": [
    "imprime_matriz(submatriz(matriz, 1))"
   ]
  },
  {
   "cell_type": "markdown",
   "metadata": {},
   "source": [
    "Ahora definimos de nuevo la función determinante para que tome como argumento una matriz de orden n y devuelva su determinante"
   ]
  },
  {
   "cell_type": "markdown",
   "metadata": {},
   "source": [
    "Esto lo hacemos calculando los determinantes de orden inferior de forma recursiva (excepto si es de orden 2 o 1)."
   ]
  },
  {
   "cell_type": "code",
   "execution_count": 17,
   "metadata": {},
   "outputs": [],
   "source": [
    "def determinante(M):\n",
    "    n = len(M)\n",
    "    if n == 1:\n",
    "        # matriz de orden 1\n",
    "        return M[0][0]\n",
    "    if n == 2:\n",
    "        # matriz de orden 2\n",
    "        return M[0][0] * M[1][1] - M[1][0] * M[0][1]\n",
    "    \n",
    "    # matriz de orden superior a 2\n",
    "    D = 0\n",
    "    for k in range(0, n):\n",
    "        D += (1 - 2 * (k % 2)) * M[0][k] * determinante( submatriz(M, k) )\n",
    "    return D"
   ]
  },
  {
   "cell_type": "code",
   "execution_count": 18,
   "metadata": {},
   "outputs": [
    {
     "data": {
      "text/plain": [
       "112"
      ]
     },
     "execution_count": 18,
     "metadata": {},
     "output_type": "execute_result"
    }
   ],
   "source": [
    "determinante(matriz)"
   ]
  },
  {
   "cell_type": "code",
   "execution_count": null,
   "metadata": {},
   "outputs": [],
   "source": []
  }
 ],
 "metadata": {
  "kernelspec": {
   "display_name": "Python 3",
   "language": "python",
   "name": "python3"
  },
  "language_info": {
   "codemirror_mode": {
    "name": "ipython",
    "version": 3
   },
   "file_extension": ".py",
   "mimetype": "text/x-python",
   "name": "python",
   "nbconvert_exporter": "python",
   "pygments_lexer": "ipython3",
   "version": "3.6.8"
  }
 },
 "nbformat": 4,
 "nbformat_minor": 2
}
