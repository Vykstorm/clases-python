{
 "cells": [
  {
   "cell_type": "markdown",
   "metadata": {},
   "source": [
    "## Búsquedas sobre listas"
   ]
  },
  {
   "cell_type": "markdown",
   "metadata": {},
   "source": [
    "####  Buscar el primer elemento más pequeño que cero"
   ]
  },
  {
   "cell_type": "code",
   "execution_count": 22,
   "metadata": {},
   "outputs": [],
   "source": [
    "def busca_menor_que_cero(L):\n",
    "    n = len(L)\n",
    "    if n == 0:\n",
    "        print(\"No hay ningun elemento en la lista!\")\n",
    "        return None\n",
    "    \n",
    "    i = 0\n",
    "    while i < n-1 and L[i] >= 0:\n",
    "        i += 1\n",
    "    if L[i] >= 0:\n",
    "        print(\"No hay ningun elemento mas pequeño que cero!\")\n",
    "        return None\n",
    "    return L[i]"
   ]
  },
  {
   "cell_type": "code",
   "execution_count": 18,
   "metadata": {},
   "outputs": [
    {
     "data": {
      "text/plain": [
       "-1"
      ]
     },
     "execution_count": 18,
     "metadata": {},
     "output_type": "execute_result"
    }
   ],
   "source": [
    "busca_menor_que_cero([0, 1, 2, 3, -1, 5, 3])"
   ]
  },
  {
   "cell_type": "code",
   "execution_count": 19,
   "metadata": {},
   "outputs": [
    {
     "data": {
      "text/plain": [
       "-5"
      ]
     },
     "execution_count": 19,
     "metadata": {},
     "output_type": "execute_result"
    }
   ],
   "source": [
    "busca_menor_que_cero([5, 6, 3, -5])"
   ]
  },
  {
   "cell_type": "code",
   "execution_count": 20,
   "metadata": {},
   "outputs": [
    {
     "name": "stdout",
     "output_type": "stream",
     "text": [
      "No hay ningun elemento mas pequeño que cero!\n"
     ]
    }
   ],
   "source": [
    "busca_menor_que_cero([0, 3, 1, 4])"
   ]
  },
  {
   "cell_type": "code",
   "execution_count": 21,
   "metadata": {},
   "outputs": [
    {
     "name": "stdout",
     "output_type": "stream",
     "text": [
      "No hay ningun elemento en la lista!\n"
     ]
    }
   ],
   "source": [
    "busca_menor_que_cero([])"
   ]
  },
  {
   "cell_type": "markdown",
   "metadata": {},
   "source": [
    "#### Buscar el último elemento impar"
   ]
  },
  {
   "cell_type": "code",
   "execution_count": 25,
   "metadata": {},
   "outputs": [],
   "source": [
    "def busca_ultimo_impar(L):\n",
    "    n = len(L)\n",
    "    if n == 0:\n",
    "        print(\"No hay ningun elemento en la lista!\")\n",
    "        return None\n",
    "    \n",
    "    i = n-1\n",
    "    while i > 0 and L[i] % 2 == 0:\n",
    "        i -= 1\n",
    "    if L[i] % 2 == 0:\n",
    "        print(\"No hay ningun elemento impar!\")\n",
    "        return None\n",
    "    return L[i] "
   ]
  },
  {
   "cell_type": "code",
   "execution_count": 26,
   "metadata": {},
   "outputs": [
    {
     "data": {
      "text/plain": [
       "3"
      ]
     },
     "execution_count": 26,
     "metadata": {},
     "output_type": "execute_result"
    }
   ],
   "source": [
    "busca_ultimo_impar([1, 2, 3, 4])"
   ]
  },
  {
   "cell_type": "code",
   "execution_count": 27,
   "metadata": {},
   "outputs": [
    {
     "data": {
      "text/plain": [
       "3"
      ]
     },
     "execution_count": 27,
     "metadata": {},
     "output_type": "execute_result"
    }
   ],
   "source": [
    "busca_ultimo_impar([3, 4, 6, 10, 20])"
   ]
  },
  {
   "cell_type": "code",
   "execution_count": 28,
   "metadata": {},
   "outputs": [
    {
     "name": "stdout",
     "output_type": "stream",
     "text": [
      "No hay ningun elemento impar!\n"
     ]
    }
   ],
   "source": [
    "busca_ultimo_impar([2, 4, 6, 8, 10])"
   ]
  },
  {
   "cell_type": "code",
   "execution_count": 29,
   "metadata": {},
   "outputs": [
    {
     "name": "stdout",
     "output_type": "stream",
     "text": [
      "No hay ningun elemento en la lista!\n"
     ]
    }
   ],
   "source": [
    "busca_ultimo_impar([])"
   ]
  },
  {
   "cell_type": "markdown",
   "metadata": {},
   "source": [
    "#### Buscar la primera pareja consecutiva de elementos tal que su suma es 10"
   ]
  },
  {
   "cell_type": "code",
   "execution_count": 38,
   "metadata": {},
   "outputs": [],
   "source": [
    "def busca_pareja_suma_10(L):\n",
    "    n = len(L)\n",
    "    if n < 2:\n",
    "        print(\"La lista debe tener al menos dos elementos\")\n",
    "        return None\n",
    "    \n",
    "    i = 0\n",
    "    while i < n-2 and L[i] + L[i+1] != 10:\n",
    "        i += 1\n",
    "    if L[i] + L[i+1] != 10:\n",
    "        print(\"No hay dos elementos consecutivos que sumen 10\")\n",
    "        return None\n",
    "    return L[i], L[i+1]"
   ]
  },
  {
   "cell_type": "code",
   "execution_count": 39,
   "metadata": {},
   "outputs": [
    {
     "data": {
      "text/plain": [
       "(3, 7)"
      ]
     },
     "execution_count": 39,
     "metadata": {},
     "output_type": "execute_result"
    }
   ],
   "source": [
    "busca_pareja_suma_10([ 5, 6, 3, 7, 3, 4 ])"
   ]
  },
  {
   "cell_type": "code",
   "execution_count": 40,
   "metadata": {},
   "outputs": [
    {
     "data": {
      "text/plain": [
       "(8, 2)"
      ]
     },
     "execution_count": 40,
     "metadata": {},
     "output_type": "execute_result"
    }
   ],
   "source": [
    "busca_pareja_suma_10([ 7, 5, 1, 3, 8, 2 ])"
   ]
  },
  {
   "cell_type": "code",
   "execution_count": 41,
   "metadata": {},
   "outputs": [
    {
     "name": "stdout",
     "output_type": "stream",
     "text": [
      "La lista debe tener al menos dos elementos\n"
     ]
    }
   ],
   "source": [
    "busca_pareja_suma_10([ 1 ])"
   ]
  },
  {
   "cell_type": "code",
   "execution_count": 42,
   "metadata": {},
   "outputs": [
    {
     "name": "stdout",
     "output_type": "stream",
     "text": [
      "No hay dos elementos consecutivos que sumen 10\n"
     ]
    }
   ],
   "source": [
    "busca_pareja_suma_10([ 1, 2, 3, 4, 5 ])"
   ]
  },
  {
   "cell_type": "markdown",
   "metadata": {},
   "source": [
    "#### Buscar un valor tal que los que le anteceden son todos iguales a él"
   ]
  },
  {
   "cell_type": "code",
   "execution_count": 46,
   "metadata": {},
   "outputs": [],
   "source": [
    "def busca_valor(L):\n",
    "    n = len(L)\n",
    "    if n == 0:\n",
    "        print(\"La lista esta vacia!\")\n",
    "        return None\n",
    "    if n == 1:\n",
    "        return L[0]\n",
    "\n",
    "    i = 0\n",
    "    while i < n-1:\n",
    "        j = i+1\n",
    "        while j < n-1 and L[i] == L[j]:\n",
    "            j += 1\n",
    "        if L[i] != L[j]:\n",
    "            i = j\n",
    "        else:\n",
    "            break\n",
    "    return i"
   ]
  },
  {
   "cell_type": "code",
   "execution_count": 47,
   "metadata": {},
   "outputs": [
    {
     "data": {
      "text/plain": [
       "2"
      ]
     },
     "execution_count": 47,
     "metadata": {},
     "output_type": "execute_result"
    }
   ],
   "source": [
    "busca_valor([ 0, 1, 2, 2, 2 ])"
   ]
  },
  {
   "cell_type": "code",
   "execution_count": 48,
   "metadata": {},
   "outputs": [
    {
     "data": {
      "text/plain": [
       "4"
      ]
     },
     "execution_count": 48,
     "metadata": {},
     "output_type": "execute_result"
    }
   ],
   "source": [
    "busca_valor([ 0, 2, 2, 2, 3, 3 ])"
   ]
  },
  {
   "cell_type": "code",
   "execution_count": 49,
   "metadata": {},
   "outputs": [
    {
     "data": {
      "text/plain": [
       "4"
      ]
     },
     "execution_count": 49,
     "metadata": {},
     "output_type": "execute_result"
    }
   ],
   "source": [
    "busca_valor([ 1, -2, 4, 3, 9 ])"
   ]
  },
  {
   "cell_type": "code",
   "execution_count": 50,
   "metadata": {},
   "outputs": [
    {
     "name": "stdout",
     "output_type": "stream",
     "text": [
      "La lista esta vacia!\n"
     ]
    }
   ],
   "source": [
    "busca_valor([ ])"
   ]
  },
  {
   "cell_type": "markdown",
   "metadata": {},
   "source": [
    "#### Buscar el elemento tal que la suma de sus predecesores y él mismo es mayor que 10"
   ]
  },
  {
   "cell_type": "code",
   "execution_count": 51,
   "metadata": {},
   "outputs": [],
   "source": [
    "def buscar_suma_10(L):\n",
    "    n = len(L)\n",
    "    if n == 0:\n",
    "        print(\"La lista está vacia!\")\n",
    "        return None\n",
    "    \n",
    "    i = 0\n",
    "    s = L[i]\n",
    "    while i < n-1 and s < 10:\n",
    "        i += 1\n",
    "        s += L[i]\n",
    "    \n",
    "    if s < 10:\n",
    "        print(\"La suma total de los elementos de la lista entera es menor que 10!\")\n",
    "        return None\n",
    "    return L[i]"
   ]
  },
  {
   "cell_type": "code",
   "execution_count": 52,
   "metadata": {},
   "outputs": [
    {
     "data": {
      "text/plain": [
       "7"
      ]
     },
     "execution_count": 52,
     "metadata": {},
     "output_type": "execute_result"
    }
   ],
   "source": [
    "buscar_suma_10([ 0, 2, 4, 1, 7, 2 ])"
   ]
  },
  {
   "cell_type": "code",
   "execution_count": 54,
   "metadata": {},
   "outputs": [
    {
     "data": {
      "text/plain": [
       "2"
      ]
     },
     "execution_count": 54,
     "metadata": {},
     "output_type": "execute_result"
    }
   ],
   "source": [
    "buscar_suma_10([ 5, -1, -2, 6, 1, 2, -3 ])"
   ]
  },
  {
   "cell_type": "code",
   "execution_count": 53,
   "metadata": {},
   "outputs": [
    {
     "name": "stdout",
     "output_type": "stream",
     "text": [
      "La suma total de los elementos de la lista entera es menor que 10!\n"
     ]
    }
   ],
   "source": [
    "buscar_suma_10([ 5, 3, 1 ])"
   ]
  },
  {
   "cell_type": "code",
   "execution_count": null,
   "metadata": {},
   "outputs": [],
   "source": []
  }
 ],
 "metadata": {
  "kernelspec": {
   "display_name": "Python 3",
   "language": "python",
   "name": "python3"
  },
  "language_info": {
   "codemirror_mode": {
    "name": "ipython",
    "version": 3
   },
   "file_extension": ".py",
   "mimetype": "text/x-python",
   "name": "python",
   "nbconvert_exporter": "python",
   "pygments_lexer": "ipython3",
   "version": "3.6.8"
  }
 },
 "nbformat": 4,
 "nbformat_minor": 2
}
