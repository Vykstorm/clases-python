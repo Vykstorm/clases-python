{
 "cells": [
  {
   "cell_type": "markdown",
   "metadata": {},
   "source": [
    "Ejemplos sencillos de funciones recursivas:"
   ]
  },
  {
   "cell_type": "markdown",
   "metadata": {},
   "source": [
    "### Número factorial"
   ]
  },
  {
   "cell_type": "markdown",
   "metadata": {},
   "source": [
    "Calcular el número factorial:\n",
    "$x! = x \\times (x-1)! = x \\times (x-1) \\times (x-2)! = ... = x \\times (x-1) \\times (x-2) \\times ... \\times 2 \\times 1$"
   ]
  },
  {
   "cell_type": "code",
   "execution_count": 4,
   "metadata": {},
   "outputs": [],
   "source": [
    "def factorial(x):\n",
    "    if x == 1:\n",
    "        # Caso trivial 1! = 1\n",
    "        return 1\n",
    "    # x! = x * (x-1)!\n",
    "    return x * factorial(x-1)"
   ]
  },
  {
   "cell_type": "code",
   "execution_count": 5,
   "metadata": {},
   "outputs": [
    {
     "data": {
      "text/plain": [
       "3628800"
      ]
     },
     "execution_count": 5,
     "metadata": {},
     "output_type": "execute_result"
    }
   ],
   "source": [
    "factorial(10)"
   ]
  },
  {
   "cell_type": "code",
   "execution_count": 6,
   "metadata": {},
   "outputs": [
    {
     "data": {
      "text/plain": [
       "120"
      ]
     },
     "execution_count": 6,
     "metadata": {},
     "output_type": "execute_result"
    }
   ],
   "source": [
    "factorial(5)"
   ]
  },
  {
   "cell_type": "markdown",
   "metadata": {},
   "source": [
    "### Fibonacci"
   ]
  },
  {
   "cell_type": "markdown",
   "metadata": {},
   "source": [
    "Calcular el elemento k-ésimo de la secuencia fibonacci.\n",
    "La secuencia es: 0, 1, 1, 2, 3, 5, 8, 13, ..."
   ]
  },
  {
   "cell_type": "markdown",
   "metadata": {},
   "source": [
    "El elemento k-ésimo ($S_k$) puede expresarse en función de los dos elementos anteriores $S_(k-1)$, $S_(k-2)$"
   ]
  },
  {
   "cell_type": "code",
   "execution_count": 8,
   "metadata": {},
   "outputs": [],
   "source": [
    "def fibonacci(k):\n",
    "    # Casos triviales (k=0  k=1)\n",
    "    if k == 0:\n",
    "        return 0\n",
    "    if k == 1:\n",
    "        return 1\n",
    "    # f(x) = f(x-1) + f(x-2)\n",
    "    return fibonacci(k-1) + fibonacci(k-2)"
   ]
  },
  {
   "cell_type": "code",
   "execution_count": 9,
   "metadata": {},
   "outputs": [
    {
     "data": {
      "text/plain": [
       "55"
      ]
     },
     "execution_count": 9,
     "metadata": {},
     "output_type": "execute_result"
    }
   ],
   "source": [
    "fibonacci(10)"
   ]
  },
  {
   "cell_type": "code",
   "execution_count": 10,
   "metadata": {},
   "outputs": [
    {
     "data": {
      "text/plain": [
       "832040"
      ]
     },
     "execution_count": 10,
     "metadata": {},
     "output_type": "execute_result"
    }
   ],
   "source": [
    "fibonacci(30)"
   ]
  },
  {
   "cell_type": "markdown",
   "metadata": {},
   "source": [
    "### Número combinatorio"
   ]
  },
  {
   "cell_type": "markdown",
   "metadata": {},
   "source": [
    "Para calcular el número combinatorio\n",
    "$\\quad\n",
    "\\begin{pmatrix}\n",
    "n \\\\\n",
    "k\n",
    "\\end{pmatrix}\n",
    "\\quad$ podemos hacer uso de la siguiente fórmula: <br/>\n",
    "\n",
    "$\n",
    "\\quad\n",
    "\\begin{pmatrix}\n",
    "n \\\\\n",
    "k\n",
    "\\end{pmatrix}\n",
    "\\quad\n",
    "=\n",
    "\\quad\n",
    "\\begin{pmatrix}\n",
    "n-1 \\\\\n",
    "k-1\n",
    "\\end{pmatrix}\n",
    "\\quad\n",
    "+\n",
    "\\quad\n",
    "\\begin{pmatrix}\n",
    "n-1 \\\\\n",
    "k\n",
    "\\end{pmatrix}\n",
    "\\quad\n",
    "$"
   ]
  },
  {
   "cell_type": "markdown",
   "metadata": {},
   "source": [
    "También sabemos que:\n",
    "$\\quad\n",
    "\\begin{pmatrix}\n",
    "n \\\\\n",
    "0\n",
    "\\end{pmatrix}\n",
    "\\quad\n",
    "= 1\n",
    "$ para todo n >= 0"
   ]
  },
  {
   "cell_type": "markdown",
   "metadata": {},
   "source": [
    "Y $\\quad\n",
    "\\begin{pmatrix}\n",
    "0 \\\\\n",
    "k\n",
    "\\end{pmatrix}\n",
    "\\quad\n",
    "= 0\n",
    "$ para todo k >= 0"
   ]
  },
  {
   "cell_type": "code",
   "execution_count": 13,
   "metadata": {},
   "outputs": [],
   "source": [
    "def combinatorio(n, k):\n",
    "    # Casos triviales\n",
    "    if n == 0:\n",
    "        return 0\n",
    "    if k == 0:\n",
    "        return 1\n",
    "    # Caso no trivial\n",
    "    return combinatorio(n-1, k-1) + combinatorio(n-1, k)"
   ]
  },
  {
   "cell_type": "code",
   "execution_count": 15,
   "metadata": {},
   "outputs": [
    {
     "data": {
      "text/plain": [
       "4"
      ]
     },
     "execution_count": 15,
     "metadata": {},
     "output_type": "execute_result"
    }
   ],
   "source": [
    "combinatorio(5, 3)"
   ]
  },
  {
   "cell_type": "code",
   "execution_count": 16,
   "metadata": {},
   "outputs": [
    {
     "data": {
      "text/plain": [
       "7"
      ]
     },
     "execution_count": 16,
     "metadata": {},
     "output_type": "execute_result"
    }
   ],
   "source": [
    "combinatorio(8, 1)"
   ]
  },
  {
   "cell_type": "code",
   "execution_count": 17,
   "metadata": {},
   "outputs": [
    {
     "data": {
      "text/plain": [
       "15"
      ]
     },
     "execution_count": 17,
     "metadata": {},
     "output_type": "execute_result"
    }
   ],
   "source": [
    "combinatorio(7, 4)"
   ]
  },
  {
   "cell_type": "code",
   "execution_count": null,
   "metadata": {},
   "outputs": [],
   "source": []
  }
 ],
 "metadata": {
  "kernelspec": {
   "display_name": "Python 3",
   "language": "python",
   "name": "python3"
  },
  "language_info": {
   "codemirror_mode": {
    "name": "ipython",
    "version": 3
   },
   "file_extension": ".py",
   "mimetype": "text/x-python",
   "name": "python",
   "nbconvert_exporter": "python",
   "pygments_lexer": "ipython3",
   "version": "3.6.8"
  }
 },
 "nbformat": 4,
 "nbformat_minor": 2
}
