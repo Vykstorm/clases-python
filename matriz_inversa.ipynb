{
 "cells": [
  {
   "cell_type": "markdown",
   "metadata": {},
   "source": [
    "### ¿Cómo calcular la inversa de una matriz?"
   ]
  },
  {
   "cell_type": "markdown",
   "metadata": {},
   "source": [
    "El objetivo de este notebook es mostrar como crear un algoritmo que calcule la inversa de una matriz"
   ]
  },
  {
   "cell_type": "markdown",
   "metadata": {},
   "source": [
    "Lo primero que debemos tener en cuenta con respecto a la matriz que queremos invertir es comprobar si es singular. Si lo es, no es invertible. Una matriz es singular si y solo si el determinante es cero."
   ]
  },
  {
   "cell_type": "markdown",
   "metadata": {},
   "source": [
    "Para computar la inversa de una matriz $A$, podemos usar la siguiente fórmula:\n",
    "\n",
    "$A^{-1} = \\frac{adj(A)}{det(A)}$ <br>\n",
    "\n",
    "donde $adj(A)$ es la matriz adjunta y $det(A)$ es el determinante"
   ]
  },
  {
   "cell_type": "markdown",
   "metadata": {},
   "source": [
    "La matriz adjunta será:\n",
    "$adj(A) = C(A)^T$ (la matriz de cofactores de $A$ transpuesta)"
   ]
  },
  {
   "cell_type": "markdown",
   "metadata": {},
   "source": [
    "En resumen: <br>"
   ]
  },
  {
   "cell_type": "markdown",
   "metadata": {},
   "source": [
    "$A^{-1} = \\frac{C(A)^T}{det(A)}$"
   ]
  },
  {
   "cell_type": "markdown",
   "metadata": {},
   "source": [
    "Para calcular la inversa, necesitaremos las siguientes funciones:\n",
    "* ``cofactores(M)`` que devuelva la matriz de cofactores de una matriz ``M`` cuadrada\n",
    "* ``transpuesta(M)`` que devuelva la matriz ``M`` transpuesta\n",
    "* ``producto_escalar(M, k)`` que calcule el producto escalar de una matriz ``M`` y un número ``k``.\n",
    "    "
   ]
  },
  {
   "cell_type": "markdown",
   "metadata": {},
   "source": [
    "Entonces, la inversa de ``A`` podrá calcularse como: <br>\n",
    "``producto_escalar(transpuesta(cofactores(A)), 1 / determinante(A))``"
   ]
  },
  {
   "cell_type": "markdown",
   "metadata": {},
   "source": [
    "### ¿Cómo calcular la matriz de cofactores?"
   ]
  },
  {
   "cell_type": "markdown",
   "metadata": {},
   "source": [
    "El elemento en la fila i-ésima y columna j-ésima de la matriz de cofactores de $C(A)$ se calcula como el determinante de la submatriz que resulta de eliminar de A la fila i y la columna j (con signo negativo si la paridad de i y j es distinta)."
   ]
  },
  {
   "cell_type": "markdown",
   "metadata": {},
   "source": [
    "Para el caso concreto de una matriz 2x2:"
   ]
  },
  {
   "cell_type": "markdown",
   "metadata": {},
   "source": [
    "$A =\n",
    "\\begin{pmatrix}\n",
    "a & b \\\\\n",
    "c & d\n",
    "\\end{pmatrix} => C(A) =\n",
    "\\begin{pmatrix}\n",
    "d & -c \\\\\n",
    "-b & a\n",
    "\\end{pmatrix}\n",
    "$"
   ]
  },
  {
   "cell_type": "markdown",
   "metadata": {},
   "source": [
    "Para una matriz 3x3: <br>"
   ]
  },
  {
   "cell_type": "markdown",
   "metadata": {},
   "source": [
    "$\n",
    "A = \\begin{pmatrix}\n",
    "a & b & c \\\\\n",
    "d & e & f \\\\\n",
    "g & h & i\n",
    "\\end{pmatrix}\n",
    "$"
   ]
  },
  {
   "cell_type": "markdown",
   "metadata": {},
   "source": [
    "$C(A) =\n",
    "\\begin{pmatrix}\n",
    "    +\\begin{vmatrix}\n",
    "    e & f \\\\\n",
    "    h & i\n",
    "    \\end{vmatrix} &\n",
    "    -\\begin{vmatrix}\n",
    "    d & f \\\\\n",
    "    g & i\n",
    "    \\end{vmatrix} &\n",
    "    +\\begin{vmatrix}\n",
    "    d & e \\\\\n",
    "    g & h\n",
    "    \\end{vmatrix} \\\\\n",
    "    -\\begin{vmatrix}\n",
    "    b & c \\\\\n",
    "    h & i\n",
    "    \\end{vmatrix} &\n",
    "    +\\begin{vmatrix}\n",
    "    a & c \\\\\n",
    "    g & i\n",
    "    \\end{vmatrix} &\n",
    "    -\\begin{vmatrix}\n",
    "    a & b \\\\\n",
    "    g & h\n",
    "    \\end{vmatrix} \\\\\n",
    "    +\\begin{vmatrix}\n",
    "    b & c \\\\\n",
    "    e & f\n",
    "    \\end{vmatrix} &\n",
    "    -\\begin{vmatrix}\n",
    "    a & c \\\\\n",
    "    d & f\n",
    "    \\end{vmatrix} &\n",
    "    +\\begin{vmatrix}\n",
    "    a & b \\\\\n",
    "    d & e\n",
    "    \\end{vmatrix} \\\\\n",
    "\\end{pmatrix}\n",
    "$"
   ]
  },
  {
   "cell_type": "markdown",
   "metadata": {},
   "source": [
    "Usamos las funciones ``determinante`` y ``submatriz`` que se muestran en el notebook de\n",
    "determinantes"
   ]
  },
  {
   "cell_type": "code",
   "execution_count": 1,
   "metadata": {},
   "outputs": [],
   "source": [
    "from funciones_matrices import determinante, submatriz, imprime_matriz"
   ]
  },
  {
   "cell_type": "code",
   "execution_count": 2,
   "metadata": {},
   "outputs": [],
   "source": [
    "def cofactores(M):\n",
    "    S = []\n",
    "    n = len(M)\n",
    "    for i in range(0, n):\n",
    "        fila = []\n",
    "        for j in range(0, n):\n",
    "            s = ((1 - i % 2) * 2 - 1) * ((1 - j % 2) * 2 - 1) * determinante(submatriz(M, i, j))\n",
    "            fila.append(s)\n",
    "        S.append(fila)\n",
    "    return S"
   ]
  },
  {
   "cell_type": "markdown",
   "metadata": {},
   "source": [
    "Ejemplo:"
   ]
  },
  {
   "cell_type": "code",
   "execution_count": 3,
   "metadata": {},
   "outputs": [],
   "source": [
    "B = [\n",
    "    [0, 2, 5],\n",
    "    [5, 4, 2],\n",
    "    [6, 3, 5]\n",
    "]"
   ]
  },
  {
   "cell_type": "code",
   "execution_count": 4,
   "metadata": {},
   "outputs": [
    {
     "data": {
      "text/latex": [
       "$$\\quad\\begin{pmatrix}\n",
       "0 & 2 & 5\\\\\n",
       "5 & 4 & 2\\\\\n",
       "6 & 3 & 5\\end{pmatrix}\\quad\n",
       "$$"
      ],
      "text/plain": [
       "<IPython.core.display.Math object>"
      ]
     },
     "metadata": {},
     "output_type": "display_data"
    },
    {
     "data": {
      "text/latex": [
       "$$\\quad\\begin{pmatrix}\n",
       "14 & -13 & -9\\\\\n",
       "5 & -30 & 12\\\\\n",
       "-16 & 25 & -10\\end{pmatrix}\\quad\n",
       "$$"
      ],
      "text/plain": [
       "<IPython.core.display.Math object>"
      ]
     },
     "metadata": {},
     "output_type": "display_data"
    }
   ],
   "source": [
    "imprime_matriz(B)\n",
    "imprime_matriz(cofactores(B))"
   ]
  },
  {
   "cell_type": "markdown",
   "metadata": {},
   "source": [
    "### ¿Cómo transponer una matriz?"
   ]
  },
  {
   "cell_type": "markdown",
   "metadata": {},
   "source": [
    "Dada una matriz $A$, el elemento de la fila i y columna j de la matriz $A^T$ es el elemento de la fila j y columna i de $A$: <br/>\n",
    "\n",
    "$A_j^i = (A^T)_i^j$"
   ]
  },
  {
   "cell_type": "code",
   "execution_count": 5,
   "metadata": {},
   "outputs": [],
   "source": [
    "def transpuesta(M):\n",
    "    S = []\n",
    "    m, n = len(M), len(M[0])\n",
    "    for i in range(0, n):\n",
    "        fila = []\n",
    "        for j in range(0, m):\n",
    "            fila.append(M[j][i])\n",
    "        S.append(fila)\n",
    "    return S"
   ]
  },
  {
   "cell_type": "code",
   "execution_count": 6,
   "metadata": {},
   "outputs": [
    {
     "data": {
      "text/latex": [
       "$$\\quad\\begin{pmatrix}\n",
       "1 & 2 & 3\\\\\n",
       "4 & 5 & 6\\\\\n",
       "7 & 8 & 9\\end{pmatrix}\\quad\n",
       "$$"
      ],
      "text/plain": [
       "<IPython.core.display.Math object>"
      ]
     },
     "metadata": {},
     "output_type": "display_data"
    },
    {
     "data": {
      "text/latex": [
       "$$\\quad\\begin{pmatrix}\n",
       "1 & 4 & 7\\\\\n",
       "2 & 5 & 8\\\\\n",
       "3 & 6 & 9\\end{pmatrix}\\quad\n",
       "$$"
      ],
      "text/plain": [
       "<IPython.core.display.Math object>"
      ]
     },
     "metadata": {},
     "output_type": "display_data"
    }
   ],
   "source": [
    "A = [\n",
    "    [1, 2, 3],\n",
    "    [4, 5, 6],\n",
    "    [7, 8, 9]\n",
    "]\n",
    "imprime_matriz(A)\n",
    "imprime_matriz(transpuesta(A))"
   ]
  },
  {
   "cell_type": "markdown",
   "metadata": {},
   "source": [
    "### Producto escalar entre matriz y número"
   ]
  },
  {
   "cell_type": "markdown",
   "metadata": {},
   "source": [
    "Dada una matriz $A$, el producto escalar con un número $k$ es $B = k \\times A$ <br/>\n",
    "Donde se cumple que $B_i^j = k \\times A_i^j$"
   ]
  },
  {
   "cell_type": "code",
   "execution_count": 7,
   "metadata": {},
   "outputs": [],
   "source": [
    "def producto_escalar(M, k):    \n",
    "    S = []\n",
    "    n, m = len(M), len(M[0])\n",
    "    \n",
    "    for i in range(0, n):\n",
    "        fila = []\n",
    "        for j in range(0, m):\n",
    "            fila.append(M[i][j] * k)\n",
    "        S.append(fila)\n",
    "    \n",
    "    return S"
   ]
  },
  {
   "cell_type": "code",
   "execution_count": 8,
   "metadata": {},
   "outputs": [
    {
     "data": {
      "text/latex": [
       "$$\\quad\\begin{pmatrix}\n",
       "0 & 1 & 2\\\\\n",
       "1 & 3 & 1\\\\\n",
       "2 & 1 & 0\\end{pmatrix}\\quad\n",
       "$$"
      ],
      "text/plain": [
       "<IPython.core.display.Math object>"
      ]
     },
     "metadata": {},
     "output_type": "display_data"
    },
    {
     "data": {
      "text/latex": [
       "$$\\quad\\begin{pmatrix}\n",
       "0 & 3 & 6\\\\\n",
       "3 & 9 & 3\\\\\n",
       "6 & 3 & 0\\end{pmatrix}\\quad\n",
       "$$"
      ],
      "text/plain": [
       "<IPython.core.display.Math object>"
      ]
     },
     "metadata": {},
     "output_type": "display_data"
    }
   ],
   "source": [
    "A = [\n",
    "    [0, 1, 2],\n",
    "    [1, 3, 1],\n",
    "    [2, 1, 0]\n",
    "]\n",
    "k = 3\n",
    "imprime_matriz(A)\n",
    "imprime_matriz(producto_escalar(A, k))"
   ]
  },
  {
   "cell_type": "markdown",
   "metadata": {},
   "source": [
    "### Nuestra función inversa"
   ]
  },
  {
   "cell_type": "code",
   "execution_count": 9,
   "metadata": {},
   "outputs": [],
   "source": [
    "def inversa(M):\n",
    "    return producto_escalar(transpuesta(cofactores(M)), 1 / determinante(M))"
   ]
  },
  {
   "cell_type": "code",
   "execution_count": 10,
   "metadata": {},
   "outputs": [],
   "source": [
    "from funciones_matrices import matriz_aleatoria"
   ]
  },
  {
   "cell_type": "code",
   "execution_count": 11,
   "metadata": {},
   "outputs": [
    {
     "data": {
      "text/latex": [
       "$$\\quad\\begin{pmatrix}\n",
       "7 & 2 & 1\\\\\n",
       "0 & 3 & -1\\\\\n",
       "-3 & 4 & -2\\end{pmatrix}\\quad\n",
       "$$"
      ],
      "text/plain": [
       "<IPython.core.display.Math object>"
      ]
     },
     "metadata": {},
     "output_type": "display_data"
    },
    {
     "data": {
      "text/latex": [
       "$$\\quad\\begin{pmatrix}\n",
       "-2 & 8 & -5\\\\\n",
       "3 & -11 & 7\\\\\n",
       "9 & -34 & 21\\end{pmatrix}\\quad\n",
       "$$"
      ],
      "text/plain": [
       "<IPython.core.display.Math object>"
      ]
     },
     "metadata": {},
     "output_type": "display_data"
    }
   ],
   "source": [
    "A = [\n",
    "[7, 2, 1],\n",
    "[0, 3, -1],\n",
    "[-3, 4, -2]\n",
    "]\n",
    "imprime_matriz(A)\n",
    "imprime_matriz(inversa(A))"
   ]
  },
  {
   "cell_type": "markdown",
   "metadata": {},
   "source": [
    "Podemos comprobar que la función ``inversa`` está correctamente implementada haciendo una serie de pruebas usando las propiedades de las matrices inversas:"
   ]
  },
  {
   "cell_type": "markdown",
   "metadata": {},
   "source": [
    "$(A^{-1})^{-1} = A$"
   ]
  },
  {
   "cell_type": "code",
   "execution_count": 12,
   "metadata": {},
   "outputs": [
    {
     "data": {
      "text/plain": [
       "True"
      ]
     },
     "execution_count": 12,
     "metadata": {},
     "output_type": "execute_result"
    }
   ],
   "source": [
    "inversa(inversa(A)) == A"
   ]
  },
  {
   "cell_type": "markdown",
   "metadata": {},
   "source": [
    "$(k \\times A)^{-1} = \\frac{A^{-1}}{k}$"
   ]
  },
  {
   "cell_type": "code",
   "execution_count": 13,
   "metadata": {},
   "outputs": [
    {
     "data": {
      "text/plain": [
       "True"
      ]
     },
     "execution_count": 13,
     "metadata": {},
     "output_type": "execute_result"
    }
   ],
   "source": [
    "k = 4\n",
    "inversa(producto_escalar(A, k)) == producto_escalar(inversa(A), 1 / k)"
   ]
  },
  {
   "cell_type": "markdown",
   "metadata": {},
   "source": [
    "$det(A^{-1}) = \\frac{1}{det(A)}$"
   ]
  },
  {
   "cell_type": "code",
   "execution_count": 14,
   "metadata": {},
   "outputs": [
    {
     "data": {
      "text/plain": [
       "True"
      ]
     },
     "execution_count": 14,
     "metadata": {},
     "output_type": "execute_result"
    }
   ],
   "source": [
    "determinante(inversa(A)) == 1 / determinante(A)"
   ]
  },
  {
   "cell_type": "markdown",
   "metadata": {},
   "source": [
    "$(A^{-1})^T = (A^T)^{-1}$"
   ]
  },
  {
   "cell_type": "code",
   "execution_count": 15,
   "metadata": {},
   "outputs": [
    {
     "data": {
      "text/plain": [
       "True"
      ]
     },
     "execution_count": 15,
     "metadata": {},
     "output_type": "execute_result"
    }
   ],
   "source": [
    "transpuesta(inversa(A)) == inversa(transpuesta(A))"
   ]
  },
  {
   "cell_type": "markdown",
   "metadata": {},
   "source": [
    "$A \\times A^{-1} = I_n$"
   ]
  },
  {
   "cell_type": "code",
   "execution_count": 18,
   "metadata": {},
   "outputs": [
    {
     "data": {
      "text/plain": [
       "True"
      ]
     },
     "execution_count": 18,
     "metadata": {},
     "output_type": "execute_result"
    }
   ],
   "source": [
    "from funciones_matrices import producto_matricial, matriz_identidad\n",
    "\n",
    "producto_matricial(A, inversa(A)) == matriz_identidad(3)"
   ]
  },
  {
   "cell_type": "code",
   "execution_count": null,
   "metadata": {},
   "outputs": [],
   "source": []
  }
 ],
 "metadata": {
  "kernelspec": {
   "display_name": "Python 3",
   "language": "python",
   "name": "python3"
  },
  "language_info": {
   "codemirror_mode": {
    "name": "ipython",
    "version": 3
   },
   "file_extension": ".py",
   "mimetype": "text/x-python",
   "name": "python",
   "nbconvert_exporter": "python",
   "pygments_lexer": "ipython3",
   "version": "3.6.8"
  }
 },
 "nbformat": 4,
 "nbformat_minor": 2
}
