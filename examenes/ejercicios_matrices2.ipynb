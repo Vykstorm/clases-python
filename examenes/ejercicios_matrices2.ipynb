{
 "cells": [
  {
   "cell_type": "markdown",
   "metadata": {},
   "source": [
    "### Ejercicio 2 en el exámen 24/1/2018"
   ]
  },
  {
   "cell_type": "markdown",
   "metadata": {},
   "source": [
    "<i>Escribe los siguientes procedimientos y funciones:\n",
    "* Un procedimiento <b>LeeMatriz</b> que lea del usuario NxN números enteros (N\n",
    "constante conocida) y los almacene en una matriz.\n",
    "* Una función <b>ExtraeDiagonalPrincipal</b> que devuelva la diagonal principal de\n",
    "una matriz de entrada M en forma de vector.\n",
    "* Un procedimiento <b>ExtraeDiagonalSecundaria</b> que devuelva la diagonal\n",
    "secundaria de una matriz de entrada M en forma de vector.\n",
    "* Un procedimiento <b>ComparaVectores</b> que reciba dos vectores de entrada V1 y\n",
    "V2 de dimensión N y devuelva dos nuevos vectores (PAR, IMPAR), así como\n",
    "el número de elementos almacenados en cada uno de estos vectores (TamPar,\n",
    "TamImpar). Para ello, deben compararse los elementos de V1 y V2 elemento a\n",
    "elemento y guardar en los vectores la división entera del elemento en V1 entre el\n",
    "de V2. La división se guardará en el vector PAR si el resto de la división entre\n",
    "los dos elementos es par y en IMPAR en otro caso.\n",
    "* Un procedimiento EscribeVector que reciba un vector y el número de\n",
    "elementos almacenados en él y muestre por pantalla dichos números en una\n",
    "única fila.\n",
    "</i>"
   ]
  },
  {
   "cell_type": "markdown",
   "metadata": {},
   "source": [
    "Utilizando los procedimientos y funciones anteriores, crea un programa que lea dos\n",
    "matrices de números enteros, extraiga la diagonal principal de la primera matriz y la\n",
    "secundaria de la segunda y, posteriormente, compare las dos diagonales obteniendo\n",
    "los vectores PAR e IMPAR. Finalmente muestra el contenido de dichos vectores\n",
    "por pantalla."
   ]
  },
  {
   "cell_type": "markdown",
   "metadata": {},
   "source": [
    "Ejemplo: Si las matrices de entrada son:"
   ]
  },
  {
   "cell_type": "markdown",
   "metadata": {},
   "source": [
    "M1 <br/>\n",
    "1   4   7   3 <br/>\n",
    "10  9   5   3 <br/>\n",
    "3   12  14  0 <br/>\n",
    "2   5   4   11 <br/>\n",
    "\n",
    "M2 <br/>\n",
    "6   3   5   4 <br/>\n",
    "7   8   3   12 <br/>\n",
    "9   3   3   3 <br/>\n",
    "2   0  11  25 <br/>"
   ]
  },
  {
   "cell_type": "markdown",
   "metadata": {},
   "source": [
    "Las diagonales serán: <br/>\n",
    "DiagM1 = 1  9 14 11 <br/>\n",
    "DiagM2 = 4  3 3 2"
   ]
  },
  {
   "cell_type": "markdown",
   "metadata": {},
   "source": [
    "Y los vectores: <br/>\n",
    "PAR = 3 4 <br/>\n",
    "IMPAR = 0 2"
   ]
  },
  {
   "cell_type": "code",
   "execution_count": 3,
   "metadata": {},
   "outputs": [],
   "source": [
    "N = 4"
   ]
  },
  {
   "cell_type": "code",
   "execution_count": 4,
   "metadata": {},
   "outputs": [],
   "source": [
    "def LeeMatriz():\n",
    "    M = []\n",
    "    for i in range(0, N):\n",
    "        fila = []\n",
    "        for j in range(0, N):\n",
    "            fila.append(int(input()))\n",
    "        M.append(fila)\n",
    "    return M"
   ]
  },
  {
   "cell_type": "code",
   "execution_count": 5,
   "metadata": {},
   "outputs": [],
   "source": [
    "def ExtraeDiagonalPrincipal(M):\n",
    "    diagonal = []\n",
    "    for i in range(0, N):\n",
    "        diagonal.append(M[i][i])\n",
    "    return diagonal"
   ]
  },
  {
   "cell_type": "code",
   "execution_count": 6,
   "metadata": {},
   "outputs": [],
   "source": [
    "def ExtraeDiagonalSecundaria(M):\n",
    "    diagonal = []\n",
    "    for i in range(0, N):\n",
    "        diagonal.append(M[N-i-1][i])\n",
    "    return diagonal"
   ]
  },
  {
   "cell_type": "code",
   "execution_count": 7,
   "metadata": {},
   "outputs": [],
   "source": [
    "def ComparaVectores(V1, V2):\n",
    "    par, impar = [], []\n",
    "    for i in range(0, N):\n",
    "        a, b = V1[i], V2[i]\n",
    "        c = a // b\n",
    "        if (a % b) % 2 == 0:\n",
    "            par.append(c)\n",
    "        else:\n",
    "            impar.append(c)\n",
    "    return par, impar"
   ]
  },
  {
   "cell_type": "code",
   "execution_count": 8,
   "metadata": {},
   "outputs": [],
   "source": [
    "def EscribeVector(V):\n",
    "    for i in range(0, N):\n",
    "        print(i, end='  ')"
   ]
  },
  {
   "cell_type": "code",
   "execution_count": 9,
   "metadata": {},
   "outputs": [
    {
     "name": "stdout",
     "output_type": "stream",
     "text": [
      "1\n",
      "4\n",
      "7\n",
      "3\n",
      "10\n",
      "9\n",
      "5\n",
      "3\n",
      "3\n",
      "12\n",
      "14\n",
      "0\n",
      "2\n",
      "5\n",
      "4\n",
      "11\n"
     ]
    }
   ],
   "source": [
    "M1 = LeeMatriz()"
   ]
  },
  {
   "cell_type": "code",
   "execution_count": 10,
   "metadata": {},
   "outputs": [
    {
     "name": "stdout",
     "output_type": "stream",
     "text": [
      "6\n",
      "3\n",
      "5\n",
      "4\n",
      "7\n",
      "8\n",
      "3\n",
      "12\n",
      "9\n",
      "3\n",
      "3\n",
      "3\n",
      "2\n",
      "0\n",
      "11\n",
      "25\n"
     ]
    }
   ],
   "source": [
    "M2 = LeeMatriz()"
   ]
  },
  {
   "cell_type": "code",
   "execution_count": 11,
   "metadata": {},
   "outputs": [
    {
     "data": {
      "text/plain": [
       "[1, 9, 14, 11]"
      ]
     },
     "execution_count": 11,
     "metadata": {},
     "output_type": "execute_result"
    }
   ],
   "source": [
    "DiagM1 = ExtraeDiagonalPrincipal(M1)\n",
    "DiagM1"
   ]
  },
  {
   "cell_type": "code",
   "execution_count": 12,
   "metadata": {},
   "outputs": [
    {
     "data": {
      "text/plain": [
       "[2, 3, 3, 4]"
      ]
     },
     "execution_count": 12,
     "metadata": {},
     "output_type": "execute_result"
    }
   ],
   "source": [
    "DiagM2 = ExtraeDiagonalSecundaria(M2)\n",
    "DiagM2"
   ]
  },
  {
   "cell_type": "code",
   "execution_count": 13,
   "metadata": {},
   "outputs": [],
   "source": [
    "PAR, IMPAR = ComparaVectores(DiagM1, DiagM2)"
   ]
  },
  {
   "cell_type": "code",
   "execution_count": 14,
   "metadata": {},
   "outputs": [
    {
     "data": {
      "text/plain": [
       "[3, 4]"
      ]
     },
     "execution_count": 14,
     "metadata": {},
     "output_type": "execute_result"
    }
   ],
   "source": [
    "PAR"
   ]
  },
  {
   "cell_type": "code",
   "execution_count": 15,
   "metadata": {},
   "outputs": [
    {
     "data": {
      "text/plain": [
       "[0, 2]"
      ]
     },
     "execution_count": 15,
     "metadata": {},
     "output_type": "execute_result"
    }
   ],
   "source": [
    "IMPAR"
   ]
  },
  {
   "cell_type": "markdown",
   "metadata": {},
   "source": [
    "## Ejercicio 1 en el exámen del 18/1/2016"
   ]
  },
  {
   "cell_type": "markdown",
   "metadata": {},
   "source": [
    "<i>Escribe un procedimiento <b>Lectura</b> que lea una matriz A (2*N), N constante, y un par de\n",
    "números enteros F, C que representen una posición de la matriz.\n",
    "(0,5\n",
    "puntos)</i>"
   ]
  },
  {
   "cell_type": "markdown",
   "metadata": {},
   "source": [
    "<i>A continuación diseña el procedimiento <b>ZigZag</b> que deberá sumar los valores de la matriz en\n",
    "zig-zag a partir de la posición leída y hasta que la suma sea mayor que 20 o lleguemos al final de\n",
    "la matriz. Los valores sumados y la suma serán devueltos también por el procedimiento en un\n",
    "array <b>Valores</b> y una variable <b>Suma</b></i>"
   ]
  },
  {
   "cell_type": "markdown",
   "metadata": {},
   "source": [
    "<i>Para mostrar en pantalla todos los resultados utilizarás un procedimiento <b>Escritura</b>.\n",
    "Escribe finalmente el programa principal que realice todas estas tareas)</i>"
   ]
  },
  {
   "cell_type": "markdown",
   "metadata": {},
   "source": [
    "Ejemplo: <br/>\n",
    "Introduce una matriz 2x8:<br/>\n",
    "3 2 1 7 <b>4</b> 9 <b>5</b> 2 <br/>\n",
    "1 3 1 <b>8</b> 4 <b>6</b> 2 9 <br/>\n",
    "Escribe una fila y una columna: 2 4 <br/>\n",
    "La suma es 23 y está formada por los valores: 8 4 6 5 <br/>"
   ]
  },
  {
   "cell_type": "code",
   "execution_count": 17,
   "metadata": {},
   "outputs": [],
   "source": [
    "N = 8"
   ]
  },
  {
   "cell_type": "code",
   "execution_count": 18,
   "metadata": {},
   "outputs": [],
   "source": [
    "def Lectura():\n",
    "    print(f'Introduce una matriz 2x{N}')\n",
    "    M = []\n",
    "    for i in range(0, 2):\n",
    "        fila = []\n",
    "        for j in range(0, N):\n",
    "            fila.append(int(input()))\n",
    "        M.append(fila)\n",
    "    \n",
    "    print('Escribe una fila y una columna: ')\n",
    "    F, C = int(input()), int(input())\n",
    "    return M, F, C"
   ]
  },
  {
   "cell_type": "code",
   "execution_count": 19,
   "metadata": {},
   "outputs": [],
   "source": [
    "def ZigZag(M, F, C):\n",
    "    Valores = []\n",
    "    Suma = 0\n",
    "    i, j = F-1, C-1\n",
    "    while j<N and Suma < 20:\n",
    "        valor = M[i][j]\n",
    "        Valores.append(valor)\n",
    "        Suma += valor\n",
    "        j += 1\n",
    "        i = 1 - i\n",
    "    return Valores, Suma"
   ]
  },
  {
   "cell_type": "code",
   "execution_count": 20,
   "metadata": {},
   "outputs": [],
   "source": [
    "def Escritura(Valores, Suma):\n",
    "    print(f'La es {Suma} y está formada por los valores: ', end='')\n",
    "    for valor in Valores:\n",
    "        print(valor, end=' ')"
   ]
  },
  {
   "cell_type": "code",
   "execution_count": 21,
   "metadata": {},
   "outputs": [
    {
     "name": "stdout",
     "output_type": "stream",
     "text": [
      "Introduce una matriz 2x8\n",
      "3\n",
      "2\n",
      "1\n",
      "7\n",
      "4\n",
      "9\n",
      "5\n",
      "2\n",
      "1\n",
      "3\n",
      "1\n",
      "8\n",
      "4\n",
      "6\n",
      "2\n",
      "9\n",
      "Escribe una fila y una columna: \n",
      "2\n",
      "4\n"
     ]
    }
   ],
   "source": [
    "M, F, C = Lectura()"
   ]
  },
  {
   "cell_type": "code",
   "execution_count": 22,
   "metadata": {},
   "outputs": [
    {
     "name": "stdout",
     "output_type": "stream",
     "text": [
      "La es 23 y está formada por los valores: 8 4 6 5 "
     ]
    }
   ],
   "source": [
    "Valores, Suma = ZigZag(M, F, C)\n",
    "Escritura(Valores, Suma)"
   ]
  },
  {
   "cell_type": "code",
   "execution_count": null,
   "metadata": {},
   "outputs": [],
   "source": []
  }
 ],
 "metadata": {
  "kernelspec": {
   "display_name": "Python 3",
   "language": "python",
   "name": "python3"
  },
  "language_info": {
   "codemirror_mode": {
    "name": "ipython",
    "version": 3
   },
   "file_extension": ".py",
   "mimetype": "text/x-python",
   "name": "python",
   "nbconvert_exporter": "python",
   "pygments_lexer": "ipython3",
   "version": "3.7.5"
  }
 },
 "nbformat": 4,
 "nbformat_minor": 2
}
