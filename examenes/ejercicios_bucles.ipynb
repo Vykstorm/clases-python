{
 "cells": [
  {
   "cell_type": "markdown",
   "metadata": {},
   "source": [
    "## Ejercicio 1"
   ]
  },
  {
   "cell_type": "markdown",
   "metadata": {},
   "source": [
    "<i>Diseña un programa que vaya leyendo una secuencia de caracteres terminada en punto y escriba en pantalla la secuencia sustituyendo las vocales que vayan seguidas de la letra 's' por un guión (-). Las restantes vocales y el resto de caracteres aparecerán sin cambios.</i><br>\n",
    "<b>No se pueden utilizar array ni string y las letras que aparezcan serán minúsculas</b>"
   ]
  },
  {
   "cell_type": "markdown",
   "metadata": {},
   "source": [
    "Ejemplo:<br/>\n",
    "Entrada: \"podemos establecer las normas esta tarde.\" <br/>\n",
    "Salida: \"podem-s -stabler l-s norm-s -esta tarde."
   ]
  },
  {
   "cell_type": "code",
   "execution_count": 1,
   "metadata": {},
   "outputs": [
    {
     "name": "stdout",
     "output_type": "stream",
     "text": [
      "podemos establecer las normas esta tarde.\n",
      "podem-s -stablecer l-s norm-s -sta tarde.\n"
     ]
    }
   ],
   "source": [
    "# Leemos la frase (debe acabar en punto)\n",
    "entrada = input()\n",
    "\n",
    "# Imprimimos los caracteres uno a uno (reemplazamos vocales seguidas de la letra 's' por '-')\n",
    "for i in range(0, len(entrada)-1):\n",
    "    letra = entrada[i]\n",
    "    if letra in ('a', 'e', 'i', 'o', 'u') and entrada[i+1] == 's':\n",
    "        print('-', end='')\n",
    "    else:\n",
    "        print(letra, end='')\n",
    "print('.')"
   ]
  },
  {
   "cell_type": "markdown",
   "metadata": {},
   "source": [
    "## Ejercicio 2"
   ]
  },
  {
   "cell_type": "markdown",
   "metadata": {},
   "source": [
    "<i>Escribe un programa que lea una secuencia de números enteros hasta que por 5º vez aparezca un número menor que el que le precede. Nos escribirá el total de números que han sido leídos y la suma total de todos los números que son menores que el anterior</i>"
   ]
  },
  {
   "cell_type": "markdown",
   "metadata": {},
   "source": [
    "Ejemplo: <br/>\n",
    "Secuencia leída: 2 5 10 1 6 12 7 16 20 8 12 5 3 <br/>\n",
    "El total de números de la secuencia: 13 <br/>\n",
    "La suma de todos los números que son menores que el anterior es: 24\n",
    "    "
   ]
  },
  {
   "cell_type": "code",
   "execution_count": 6,
   "metadata": {},
   "outputs": [
    {
     "name": "stdout",
     "output_type": "stream",
     "text": [
      "2\n",
      "5\n",
      "10\n",
      "1\n",
      "6\n",
      "12\n",
      "7\n",
      "16\n",
      "20\n",
      "8\n",
      "12\n",
      "5\n",
      "3\n",
      "El total de números de la secuencia:  13\n",
      "La suma de todos los números que son menores que el anterior es:  24\n"
     ]
    }
   ],
   "source": [
    "\n",
    "n, m = 1, 0\n",
    "s = 0\n",
    "prev = int(input())\n",
    "\n",
    "while m < 5:\n",
    "    num = int(input())\n",
    "    n += 1\n",
    "    if num < prev:\n",
    "        s += num\n",
    "        m += 1\n",
    "    prev = num\n",
    "\n",
    "\n",
    "print(\"El total de números de la secuencia: \", n)\n",
    "print(\"La suma de todos los números que son menores que el anterior es: \", s)"
   ]
  },
  {
   "cell_type": "markdown",
   "metadata": {},
   "source": [
    "## Ejercicio 3"
   ]
  },
  {
   "cell_type": "markdown",
   "metadata": {},
   "source": [
    "<i>Lee una secuencia de enteros terminada en 0. En dicha secuencia encontrarás algunos múltiplos de 3 que separan los valores de la secuencia en tramos. Muestra en pantalla la suma de los enteros de cada uno de los tramos.</i>"
   ]
  },
  {
   "cell_type": "markdown",
   "metadata": {},
   "source": [
    "Ejemplo: <br/>\n",
    "Entrada: 2 1 3 2 8 5 9 7 13 23 1 3 2 0 <br/>\n",
    "Salida: 3 15 44 2 <br/>\n",
    "Nota: No se pueden utilizar arrays"
   ]
  },
  {
   "cell_type": "code",
   "execution_count": 9,
   "metadata": {},
   "outputs": [
    {
     "name": "stdout",
     "output_type": "stream",
     "text": [
      "2\n",
      "1\n",
      "3\n",
      "3 2\n",
      "8\n",
      "5\n",
      "9\n",
      "15 7\n",
      "13\n",
      "23\n",
      "1\n",
      "3\n",
      "44 2\n",
      "0\n"
     ]
    }
   ],
   "source": [
    "num = int(input())\n",
    "s = 0\n",
    "while num != 0:\n",
    "    if num % 3 == 0:\n",
    "        print(s, end=' ')\n",
    "        s = 0\n",
    "    else:\n",
    "        s += num\n",
    "    num = int(input())"
   ]
  },
  {
   "cell_type": "markdown",
   "metadata": {},
   "source": [
    "## Ejercicio 4"
   ]
  },
  {
   "cell_type": "markdown",
   "metadata": {},
   "source": [
    "<i>Escribe un programa que lea una frase terminada en punto y cuente el número de veces que se encuentra la letra 'a' o 'A' en una posición impar.</i><br/>\n",
    "Nota: No utilizar tipo array ni string y leer hasta llegar al punto."
   ]
  },
  {
   "cell_type": "markdown",
   "metadata": {},
   "source": [
    "Ejemplo: Introduce una frase acabada en punto: <br>\n",
    "Ayer me reuní con Ana en la Plaza del Castillo. <br>\n",
    "La letra a se encuentra 6 veces en posiciones impares"
   ]
  },
  {
   "cell_type": "code",
   "execution_count": 11,
   "metadata": {},
   "outputs": [
    {
     "name": "stdout",
     "output_type": "stream",
     "text": [
      "Ayer me reuní con Ana en la Plaza del Castillo.\n",
      "La letra a se encuentra 6 veces en posiciones impares\n"
     ]
    }
   ],
   "source": [
    "entrada = input()\n",
    "n = 0\n",
    "for i in range(0, len(entrada), 2):\n",
    "    letra = entrada[i]\n",
    "    if letra in ('a', 'A'):\n",
    "        n += 1\n",
    "print(\"La letra a se encuentra {} veces en posiciones impares\".format(n))"
   ]
  },
  {
   "cell_type": "markdown",
   "metadata": {},
   "source": [
    "## Ejercicio 5"
   ]
  },
  {
   "cell_type": "markdown",
   "metadata": {},
   "source": [
    "<i>Lee una secuencia de dígitos terminada en 0 y muestra en pantalla las parejas de números consecutivos cuya suma sea par y tales que al menos uno de los valores sea menor que 10</i>"
   ]
  },
  {
   "cell_type": "markdown",
   "metadata": {},
   "source": [
    "Ejemplo: <br>\n",
    "Escribe una secuencia de números terminada en 0: <br>\n",
    "3 16 4 7 12 14 3 5 4 15 20 10 0 <br>\n",
    "Las parejas que cumplen la condición son: <br>\n",
    "16 4\n",
    "3 5"
   ]
  },
  {
   "cell_type": "code",
   "execution_count": 17,
   "metadata": {},
   "outputs": [
    {
     "name": "stdout",
     "output_type": "stream",
     "text": [
      "3\n",
      "16\n",
      "4\n",
      "7\n",
      "12\n",
      "14\n",
      "3\n",
      "5\n",
      "4\n",
      "15\n",
      "20\n",
      "10\n",
      "0\n",
      "Las parejas que cumplen condición son:\n",
      "16 4\n",
      "3 5\n"
     ]
    }
   ],
   "source": [
    "# Leemos la secuencia\n",
    "num = int(input())\n",
    "numeros = []\n",
    "while num != 0:\n",
    "    numeros.append(num)\n",
    "    num = int(input())\n",
    "\n",
    "n = len(numeros)\n",
    "if n < 2:\n",
    "    print(\"No hay ninguna pareja de números!\")\n",
    "else:\n",
    "    print(\"Las parejas que cumplen condición son:\")\n",
    "    for i in range(0, n-1):\n",
    "        a, b = numeros[i], numeros[i+1]\n",
    "        if ((a + b) % 2 == 0) and (a < 10 or b < 10):\n",
    "            print(a, b)"
   ]
  },
  {
   "cell_type": "markdown",
   "metadata": {},
   "source": [
    "## Ejercicio 7"
   ]
  },
  {
   "cell_type": "markdown",
   "metadata": {},
   "source": [
    "<i>Escribe un programa que lea una secuencia de números enteros positivos de dos cifras terminada en 0 y muestra por pantalla el número cuya suma de cifras sea mayor y la posición en la que se encuentra</i><br>\n",
    "Nota: Supondremos que todos los números introducidos tienen dos cifras y si hay varios números que tienen suma de cifras máxima devolveremos el primero."
   ]
  },
  {
   "cell_type": "markdown",
   "metadata": {},
   "source": [
    "Ejemplo: Si la secuencia es 16 28 91 20 14 39 16 0, el número con mayor suma de cifras es 39 y está en la posición 6"
   ]
  },
  {
   "cell_type": "code",
   "execution_count": 24,
   "metadata": {},
   "outputs": [
    {
     "name": "stdout",
     "output_type": "stream",
     "text": [
      "16\n",
      "28\n",
      "91\n",
      "20\n",
      "14\n",
      "39\n",
      "16\n",
      "0\n",
      "El número con mayor suma de cifras es 39 y está en la posición 6\n"
     ]
    }
   ],
   "source": [
    "numeros = []\n",
    "num = int(input())\n",
    "while num != 0:\n",
    "    numeros.append(num)\n",
    "    num = int(input())\n",
    "n = len(numeros)\n",
    "if n == 0:\n",
    "    print(\"No has introducido ningun número\")\n",
    "else:\n",
    "    i = n-1\n",
    "    suma_digitos_max = (numeros[i] // 10) + (numeros[i] % 10)\n",
    "    \n",
    "    for j in range(n-2, 0, -1):\n",
    "        num = numeros[j]\n",
    "        suma_digitos = (num // 10) + (num % 10)\n",
    "        if suma_digitos > suma_digitos_max:\n",
    "            suma_digitos_max = suma_digitos\n",
    "            i = j\n",
    "    \n",
    "    print(\"El número con mayor suma de cifras es {} y está en la posición {}\".format(\n",
    "            numeros[i], i+1\n",
    "        ))"
   ]
  },
  {
   "cell_type": "code",
   "execution_count": null,
   "metadata": {},
   "outputs": [],
   "source": []
  }
 ],
 "metadata": {
  "kernelspec": {
   "display_name": "Python 3",
   "language": "python",
   "name": "python3"
  },
  "language_info": {
   "codemirror_mode": {
    "name": "ipython",
    "version": 3
   },
   "file_extension": ".py",
   "mimetype": "text/x-python",
   "name": "python",
   "nbconvert_exporter": "python",
   "pygments_lexer": "ipython3",
   "version": "3.6.8"
  }
 },
 "nbformat": 4,
 "nbformat_minor": 2
}
