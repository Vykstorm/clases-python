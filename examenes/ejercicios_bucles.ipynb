{
 "cells": [
  {
   "cell_type": "markdown",
   "metadata": {},
   "source": [
    "## Ejercicio 1"
   ]
  },
  {
   "cell_type": "markdown",
   "metadata": {},
   "source": [
    "<i>Diseña un programa que vaya leyendo una secuencia de caracteres terminada en punto y escriba en pantalla la secuencia sustituyendo las vocales que vayan seguidas de la letra 's' por un guión (-). Las restantes vocales y el resto de caracteres aparecerán sin cambios.</i><br>\n",
    "<b>No se pueden utilizar array ni string y las letras que aparezcan serán minúsculas</b>"
   ]
  },
  {
   "cell_type": "markdown",
   "metadata": {},
   "source": [
    "Ejemplo:<br/>\n",
    "Entrada: \"podemos establecer las normas esta tarde.\" <br/>\n",
    "Salida: \"podem-s -stabler l-s norm-s -esta tarde."
   ]
  },
  {
   "cell_type": "code",
   "execution_count": 1,
   "metadata": {},
   "outputs": [
    {
     "name": "stdout",
     "output_type": "stream",
     "text": [
      "podemos establecer las normas esta tarde.\n",
      "podem-s -stablecer l-s norm-s -sta tarde.\n"
     ]
    }
   ],
   "source": [
    "# Leemos la frase (debe acabar en punto)\n",
    "entrada = input()\n",
    "\n",
    "# Imprimimos los caracteres uno a uno (reemplazamos vocales seguidas de la letra 's' por '-')\n",
    "for i in range(0, len(entrada)-1):\n",
    "    letra = entrada[i]\n",
    "    if letra in ('a', 'e', 'i', 'o', 'u') and entrada[i+1] == 's':\n",
    "        print('-', end='')\n",
    "    else:\n",
    "        print(letra, end='')\n",
    "print('.')"
   ]
  },
  {
   "cell_type": "code",
   "execution_count": null,
   "metadata": {},
   "outputs": [],
   "source": []
  }
 ],
 "metadata": {
  "kernelspec": {
   "display_name": "Python 3",
   "language": "python",
   "name": "python3"
  },
  "language_info": {
   "codemirror_mode": {
    "name": "ipython",
    "version": 3
   },
   "file_extension": ".py",
   "mimetype": "text/x-python",
   "name": "python",
   "nbconvert_exporter": "python",
   "pygments_lexer": "ipython3",
   "version": "3.6.8"
  }
 },
 "nbformat": 4,
 "nbformat_minor": 2
}
