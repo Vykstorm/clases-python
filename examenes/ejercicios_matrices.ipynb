{
 "cells": [
  {
   "cell_type": "markdown",
   "metadata": {},
   "source": [
    "### Ejercicio número 3 en el exámen del 5/26/2015"
   ]
  },
  {
   "cell_type": "markdown",
   "metadata": {},
   "source": [
    "<i><p>Dada una matriz M(NxN), crea dos procedimientos: uno que devuelva el vector de suma por filas\n",
    "y el otro que haga lo mismo por columnas. Posteriormente crea una función que nos diga si los dos\n",
    "vectores son iguales o no. Crea también un procedimiento para leer la matriz y, finalmente, escribe el\n",
    "programa principal.\n",
    "</p>\n",
    "Ejemplo: Introduce la matríz: <br/>\n",
    "1 2 3 5 <br/>\n",
    "5 5 4 2 <br/>\n",
    "1 4 3 1 <br/>\n",
    "1 2 3 4 <br/>\n",
    "Suma por filas = 11 16 9 10<br/>\n",
    "Suma por columnas = 8 13 13 12<br/>\n",
    "Salida = Son diferentes<br/>\n",
    "</i>"
   ]
  },
  {
   "cell_type": "code",
   "execution_count": 10,
   "metadata": {},
   "outputs": [],
   "source": [
    "n = 4\n",
    "\n",
    "def lee_matriz():\n",
    "    print(\"Introduce la matriz:\")\n",
    "    matriz = []\n",
    "    for i in range(0, n):\n",
    "        fila = []\n",
    "        for j in range(0, n):\n",
    "            fila.append(int(input()))\n",
    "        matriz.append(fila)\n",
    "    return matriz"
   ]
  },
  {
   "cell_type": "code",
   "execution_count": 11,
   "metadata": {},
   "outputs": [],
   "source": [
    "def suma_por_filas(matriz):\n",
    "    resultado = [0] * n\n",
    "    for i in range(0, n):\n",
    "        for j in range(0, n):\n",
    "            resultado[i] += matriz[i][j]\n",
    "    return resultado"
   ]
  },
  {
   "cell_type": "code",
   "execution_count": 12,
   "metadata": {},
   "outputs": [],
   "source": [
    "def suma_por_columnas(matriz):\n",
    "    resultado = [0] * n\n",
    "    for i in range(0, n):\n",
    "        for j in range(0, n):\n",
    "            resultado[j] += matriz[i][j]\n",
    "    return resultado"
   ]
  },
  {
   "cell_type": "code",
   "execution_count": 13,
   "metadata": {},
   "outputs": [],
   "source": [
    "def son_iguales(a, b):\n",
    "    return a == b"
   ]
  },
  {
   "cell_type": "markdown",
   "metadata": {},
   "source": [
    "<b>Programa principal:</b>"
   ]
  },
  {
   "cell_type": "code",
   "execution_count": 16,
   "metadata": {},
   "outputs": [
    {
     "name": "stdout",
     "output_type": "stream",
     "text": [
      "Introduce la matriz:\n",
      "6\n",
      "7\n",
      "5\n",
      "7\n",
      "8\n",
      "9\n",
      "5\n",
      "4\n",
      "8\n",
      "3\n",
      "4\n",
      "5\n",
      "6\n",
      "1\n",
      "7\n",
      "5\n"
     ]
    }
   ],
   "source": [
    "M = lee_matriz()"
   ]
  },
  {
   "cell_type": "code",
   "execution_count": 18,
   "metadata": {},
   "outputs": [],
   "source": [
    "A = suma_por_filas(M)\n",
    "B = suma_por_columnas(M)"
   ]
  },
  {
   "cell_type": "code",
   "execution_count": 23,
   "metadata": {},
   "outputs": [
    {
     "name": "stdout",
     "output_type": "stream",
     "text": [
      "Suma por filas =  25 26 20 19\n",
      "Suma por columnas =  28 20 21 21\n"
     ]
    }
   ],
   "source": [
    "print('Suma por filas = ', ' '.join([str(valor) for valor in A]))\n",
    "print('Suma por columnas = ', ' '.join([str(valor) for valor in B]))"
   ]
  },
  {
   "cell_type": "code",
   "execution_count": 25,
   "metadata": {},
   "outputs": [
    {
     "name": "stdout",
     "output_type": "stream",
     "text": [
      "Salida = Son diferentes\n"
     ]
    }
   ],
   "source": [
    "print('Salida =', 'Son iguales' if son_iguales(A, B) else 'Son diferentes')"
   ]
  },
  {
   "cell_type": "markdown",
   "metadata": {},
   "source": [
    "### Ejercicio número 3 en el exámen del 1/12/2015"
   ]
  },
  {
   "cell_type": "markdown",
   "metadata": {},
   "source": [
    "<i>\n",
    "<p>Dada una matriz M(nxn), con n constante conocida, una fila F y una columna C, la\n",
    "función IGUALES devuelve verdadero si todos los elementos de la fila F son iguales a partir de\n",
    "la columna C y falso en caso contrario.\n",
    "</p>\n",
    "Ejemplo:\n",
    "Para la matriz M, la fila F=3 y la columna C=2, IGUALES devolverá verdadero. <br/>\n",
    "3 4 1 5<br/>\n",
    "1 3 6 3<br/>\n",
    "2 <b>4 4 4</b><br/>\n",
    "5 7 2 5<br/>\n",
    "\n",
    "</i>"
   ]
  },
  {
   "cell_type": "code",
   "execution_count": 59,
   "metadata": {},
   "outputs": [],
   "source": [
    "n = 4\n",
    "def IGUALES(M, F, C):\n",
    "    fila = M[F-1]\n",
    "    i = C\n",
    "    if i == n:\n",
    "        return True\n",
    "    while i < n-1 and fila[i-1] == fila[i]:\n",
    "        i += 1\n",
    "    return fila[i-1] == fila[i]\n",
    "    "
   ]
  },
  {
   "cell_type": "code",
   "execution_count": 60,
   "metadata": {},
   "outputs": [
    {
     "data": {
      "text/plain": [
       "True"
      ]
     },
     "execution_count": 60,
     "metadata": {},
     "output_type": "execute_result"
    }
   ],
   "source": [
    "M = [\n",
    "    [3, 4, 1, 5],\n",
    "    [1, 3, 6, 3],\n",
    "    [2, 4, 4, 4],\n",
    "    [5, 7, 2, 5]\n",
    "]\n",
    "F, C = 3, 2\n",
    "IGUALES(M, F, C)"
   ]
  },
  {
   "cell_type": "markdown",
   "metadata": {},
   "source": [
    "<b>Parte 2:</b>\n",
    "<i>\n",
    "<p>\n",
    "Escribe ahora un programa que lea una matriz cuadrada M utilizando un procedimiento de lectura\n",
    "y nos diga si a partir de la diagonal principal, todos los valores de cada fila son iguales entre sí.\n",
    "</p>\n",
    "<p>\n",
    "Ejemplo: Para la siguiente matriz la respuesta sería afirmativa. <br/>\n",
    "<b>3 3 3 3</b> <br/>\n",
    "1 <b>6 6 6</b> <br/>\n",
    "2 5 <b>4 4</b> <br/>\n",
    "5 7 2 <b>5</b> <br/>\n",
    "</p>\n",
    "</i>"
   ]
  },
  {
   "cell_type": "code",
   "execution_count": 63,
   "metadata": {},
   "outputs": [],
   "source": [
    "def lee_matriz():\n",
    "    matriz = []\n",
    "    for i in range(0, n):\n",
    "        fila = []\n",
    "        for j in range(0, n):\n",
    "            fila.append(int(input()))\n",
    "        matriz.append(fila)\n",
    "    return matriz"
   ]
  },
  {
   "cell_type": "code",
   "execution_count": 64,
   "metadata": {},
   "outputs": [
    {
     "name": "stdout",
     "output_type": "stream",
     "text": [
      "3\n",
      "3\n",
      "3\n",
      "3\n",
      "1\n",
      "6\n",
      "6\n",
      "6\n",
      "2\n",
      "5\n",
      "4\n",
      "4\n",
      "5\n",
      "7\n",
      "2\n",
      "5\n"
     ]
    }
   ],
   "source": [
    "M = lee_matriz()"
   ]
  },
  {
   "cell_type": "code",
   "execution_count": 65,
   "metadata": {},
   "outputs": [
    {
     "name": "stdout",
     "output_type": "stream",
     "text": [
      "Todos los valores de cada fila son iguales entre sí a partir de la diagonal principal\n"
     ]
    }
   ],
   "source": [
    "i = 1\n",
    "while i < n-1 and IGUALES(M, i, i):\n",
    "    i += 1\n",
    "\n",
    "respuesta = IGUALES(M, i, i)\n",
    "if respuesta is True:\n",
    "    print('Todos los valores de cada fila son iguales entre sí a partir de la diagonal principal')\n",
    "else:\n",
    "     print('No todos los valores de cada fila son iguales entre sí a partir de la diagonal principal')"
   ]
  },
  {
   "cell_type": "markdown",
   "metadata": {},
   "source": [
    "### Ejercicio 1 en el exámen del 6/6/2015"
   ]
  },
  {
   "cell_type": "markdown",
   "metadata": {},
   "source": [
    "<i>Diseña un programa que permita multiplicar dos matrices cuadradas de dimensión N\n",
    "(constante conocida). Para ello haz uso de los siguientes procedimientos y funciones:</i>\n",
    "\n",
    "* Diseña un procedimiento llamado <b>LeeMatriz</b> que lea una matriz M(NxN).\n",
    "* Diseña un procedimiento llamado <b>ExtraerFila</b> que reciba una matriz M y\n",
    "número entero F y devuelva la F-ésima fila de la matriz M en forma de vector.\n",
    "* Diseña un procedimiento llamado <b>ExtraerColumna</b>que reciba una matriz M y\n",
    "un número entero C y devuelva la C-ésima columna de la matriz M en forma de\n",
    "vector.\n",
    "* Diseña una función llamada <b>ProductoEscalar</b> que reciba dos vectores A y B y\n",
    "devuelva como resultado su producto escalar (la suma del producto elemento por\n",
    "elemento de los dos vectores).\n",
    "* Diseña un procedimiento llamado <b>ProductoDeMatrices</b> que reciba como\n",
    "entrada dos matrices M1(NxN) y M2(NxN) y calcule el producto de las dos\n",
    "matrices, devolviendo como resultado la matriz resultante. Para ello, debe\n",
    "recorrerse cada posición de la matriz resultante tomando la fila\n",
    "correspondiente de M1, la columna correspondiente de M2 y obteniendo su\n",
    "producto escalar.\n",
    "* Diseña un procedimiento llamado <b>EscribeMatriz</b> que escriba una matriz\n",
    "M(NxN) por pantalla."
   ]
  },
  {
   "cell_type": "markdown",
   "metadata": {},
   "source": [
    "Ejemplo: <br/>\n",
    "$M1 = \\quad\n",
    "\\begin{pmatrix}\n",
    "5 & 6 \\\\\n",
    "3 & 7\n",
    "\\end{pmatrix}\n",
    "\\quad$\n",
    "\n",
    "$M2 = \\quad\n",
    "\\begin{pmatrix}\n",
    "3 & 2 \\\\\n",
    "1 & 5\n",
    "\\end{pmatrix}\n",
    "\\quad\n",
    "$<br/>\n",
    "$M1 \\times M2 =\n",
    "\\quad\n",
    "\\begin{pmatrix}\n",
    "21 & 40 \\\\\n",
    "16 & 41\n",
    "\\end{pmatrix}\n",
    "\\quad$"
   ]
  },
  {
   "cell_type": "markdown",
   "metadata": {},
   "source": [
    "### Ejercicio 2 en el exámen del 6/6/2015"
   ]
  },
  {
   "cell_type": "markdown",
   "metadata": {},
   "source": [
    "Para poder diseñar el programa principal escribe los siguientes procedimientos y\n",
    "funciones: <br/>\n",
    "* Diseña un procedimiento llamado <b>LeeMatriz</b> que lea una matriz M(NxN) de\n",
    "caracteres\n",
    "* Diseña un procedimiento llamado <b>LeeVector</b> que lea un vector V(N) de\n",
    "números enteros entre 1 y N.\n",
    "* Diseña una función llamada <b>ExtraePalabra</b> que reciba como entrada una matriz\n",
    "M(NxN) y dos vectores de enteros F(N) y C(N), y devuelva un vector de\n",
    "caracteres donde cada posición i debe almacenar el carácter que aparece en la\n",
    "posición de la matriz dada por los valores en la posición correspondiente (i) de\n",
    "los vectores F y C.\n",
    "* Diseña una función booleana llamada <b>Palíndroma</b> que indique si una palabra de\n",
    "entrada dada (vector de caracteres) es palíndroma o no. Una palabra es\n",
    "palíndroma si se lee de igual forma hacia adelante que hacia atrás.\n",
    "* Finalmente, escribe el programa principal que debe hacer uso de los\n",
    "procedimientos y funciones anteriores para leer una matriz de caracteres y dos\n",
    "vectores de números, extraer la palabra indicada por los vectores de la matriz y\n",
    "dar a conocer si dicha palabra es palíndroma o no."
   ]
  },
  {
   "cell_type": "markdown",
   "metadata": {},
   "source": [
    "Ejemplo 1:"
   ]
  },
  {
   "cell_type": "markdown",
   "metadata": {},
   "source": [
    "M =<br/>\n",
    "a b c f<br/>\n",
    "u g f z<br/>\n",
    "a d v b<br/>\n",
    "o z i g<br/>\n",
    "F = 1 2 4 2<br/>\n",
    "C = 1 4 3 4<br/>\n",
    "Palabra extraída: a z i z<br/>\n",
    "Salida: No es palíndroma"
   ]
  },
  {
   "cell_type": "markdown",
   "metadata": {},
   "source": [
    "Ejemplo 2:<br/>\n",
    "M =\n",
    "a b c f<br/>\n",
    "u g f z<br/>\n",
    "a d v b<br/>\n",
    "o z i g<br/>\n",
    "F = 1 2 4 3<br/>\n",
    "C = 1 4 2 1<br/>\n",
    "Palabra extraída : a z z a <br/>\n",
    "Salida: Es palíndroma"
   ]
  },
  {
   "cell_type": "code",
   "execution_count": null,
   "metadata": {},
   "outputs": [],
   "source": []
  }
 ],
 "metadata": {
  "kernelspec": {
   "display_name": "Python 3",
   "language": "python",
   "name": "python3"
  },
  "language_info": {
   "codemirror_mode": {
    "name": "ipython",
    "version": 3
   },
   "file_extension": ".py",
   "mimetype": "text/x-python",
   "name": "python",
   "nbconvert_exporter": "python",
   "pygments_lexer": "ipython3",
   "version": "3.7.5"
  }
 },
 "nbformat": 4,
 "nbformat_minor": 2
}
