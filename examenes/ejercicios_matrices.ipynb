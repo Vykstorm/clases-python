{
 "cells": [
  {
   "cell_type": "markdown",
   "metadata": {},
   "source": [
    "### Ejercicio número 3 en el exámen del 5/26/2015"
   ]
  },
  {
   "cell_type": "markdown",
   "metadata": {},
   "source": [
    "<i><p>Dada una matriz M(NxN), crea dos procedimientos: uno que devuelva el vector de suma por filas\n",
    "y el otro que haga lo mismo por columnas. Posteriormente crea una función que nos diga si los dos\n",
    "vectores son iguales o no. Crea también un procedimiento para leer la matriz y, finalmente, escribe el\n",
    "programa principal.\n",
    "</p>\n",
    "Ejemplo: Introduce la matríz: <br/>\n",
    "1 2 3 5 <br/>\n",
    "5 5 4 2 <br/>\n",
    "1 4 3 1 <br/>\n",
    "1 2 3 4 <br/>\n",
    "Suma por filas = 11 16 9 10<br/>\n",
    "Suma por columnas = 8 13 13 12<br/>\n",
    "Salida = Son diferentes<br/>\n",
    "</i>"
   ]
  },
  {
   "cell_type": "code",
   "execution_count": 10,
   "metadata": {},
   "outputs": [],
   "source": [
    "n = 4\n",
    "\n",
    "def lee_matriz():\n",
    "    print(\"Introduce la matriz:\")\n",
    "    matriz = []\n",
    "    for i in range(0, n):\n",
    "        fila = []\n",
    "        for j in range(0, n):\n",
    "            fila.append(int(input()))\n",
    "        matriz.append(fila)\n",
    "    return matriz"
   ]
  },
  {
   "cell_type": "code",
   "execution_count": 11,
   "metadata": {},
   "outputs": [],
   "source": [
    "def suma_por_filas(matriz):\n",
    "    resultado = [0] * n\n",
    "    for i in range(0, n):\n",
    "        for j in range(0, n):\n",
    "            resultado[i] += matriz[i][j]\n",
    "    return resultado"
   ]
  },
  {
   "cell_type": "code",
   "execution_count": 12,
   "metadata": {},
   "outputs": [],
   "source": [
    "def suma_por_columnas(matriz):\n",
    "    resultado = [0] * n\n",
    "    for i in range(0, n):\n",
    "        for j in range(0, n):\n",
    "            resultado[j] += matriz[i][j]\n",
    "    return resultado"
   ]
  },
  {
   "cell_type": "code",
   "execution_count": 13,
   "metadata": {},
   "outputs": [],
   "source": [
    "def son_iguales(a, b):\n",
    "    return a == b"
   ]
  },
  {
   "cell_type": "markdown",
   "metadata": {},
   "source": [
    "<b>Programa principal:</b>"
   ]
  },
  {
   "cell_type": "code",
   "execution_count": 16,
   "metadata": {},
   "outputs": [
    {
     "name": "stdout",
     "output_type": "stream",
     "text": [
      "Introduce la matriz:\n",
      "6\n",
      "7\n",
      "5\n",
      "7\n",
      "8\n",
      "9\n",
      "5\n",
      "4\n",
      "8\n",
      "3\n",
      "4\n",
      "5\n",
      "6\n",
      "1\n",
      "7\n",
      "5\n"
     ]
    }
   ],
   "source": [
    "M = lee_matriz()"
   ]
  },
  {
   "cell_type": "code",
   "execution_count": 18,
   "metadata": {},
   "outputs": [],
   "source": [
    "A = suma_por_filas(M)\n",
    "B = suma_por_columnas(M)"
   ]
  },
  {
   "cell_type": "code",
   "execution_count": 23,
   "metadata": {},
   "outputs": [
    {
     "name": "stdout",
     "output_type": "stream",
     "text": [
      "Suma por filas =  25 26 20 19\n",
      "Suma por columnas =  28 20 21 21\n"
     ]
    }
   ],
   "source": [
    "print('Suma por filas = ', ' '.join([str(valor) for valor in A]))\n",
    "print('Suma por columnas = ', ' '.join([str(valor) for valor in B]))"
   ]
  },
  {
   "cell_type": "code",
   "execution_count": 25,
   "metadata": {},
   "outputs": [
    {
     "name": "stdout",
     "output_type": "stream",
     "text": [
      "Salida = Son diferentes\n"
     ]
    }
   ],
   "source": [
    "print('Salida =', 'Son iguales' if son_iguales(A, B) else 'Son diferentes')"
   ]
  },
  {
   "cell_type": "markdown",
   "metadata": {},
   "source": [
    "### Ejercicio número 3 en el exámen del 1/12/2015"
   ]
  },
  {
   "cell_type": "markdown",
   "metadata": {},
   "source": [
    "<i>\n",
    "<p>Dada una matriz M(nxn), con n constante conocida, una fila F y una columna C, la\n",
    "función IGUALES devuelve verdadero si todos los elementos de la fila F son iguales a partir de\n",
    "la columna C y falso en caso contrario.\n",
    "</p>\n",
    "Ejemplo:\n",
    "Para la matriz M, la fila F=3 y la columna C=2, IGUALES devolverá verdadero. <br/>\n",
    "3 4 1 5<br/>\n",
    "1 3 6 3<br/>\n",
    "2 <b>4 4 4</b><br/>\n",
    "5 7 2 5<br/>\n",
    "\n",
    "</i>"
   ]
  },
  {
   "cell_type": "code",
   "execution_count": 59,
   "metadata": {},
   "outputs": [],
   "source": [
    "n = 4\n",
    "def IGUALES(M, F, C):\n",
    "    fila = M[F-1]\n",
    "    i = C\n",
    "    if i == n:\n",
    "        return True\n",
    "    while i < n-1 and fila[i-1] == fila[i]:\n",
    "        i += 1\n",
    "    return fila[i-1] == fila[i]\n",
    "    "
   ]
  },
  {
   "cell_type": "code",
   "execution_count": 60,
   "metadata": {},
   "outputs": [
    {
     "data": {
      "text/plain": [
       "True"
      ]
     },
     "execution_count": 60,
     "metadata": {},
     "output_type": "execute_result"
    }
   ],
   "source": [
    "M = [\n",
    "    [3, 4, 1, 5],\n",
    "    [1, 3, 6, 3],\n",
    "    [2, 4, 4, 4],\n",
    "    [5, 7, 2, 5]\n",
    "]\n",
    "F, C = 3, 2\n",
    "IGUALES(M, F, C)"
   ]
  },
  {
   "cell_type": "markdown",
   "metadata": {},
   "source": [
    "<b>Parte 2:</b>\n",
    "<i>\n",
    "<p>\n",
    "Escribe ahora un programa que lea una matriz cuadrada M utilizando un procedimiento de lectura\n",
    "y nos diga si a partir de la diagonal principal, todos los valores de cada fila son iguales entre sí.\n",
    "</p>\n",
    "<p>\n",
    "Ejemplo: Para la siguiente matriz la respuesta sería afirmativa. <br/>\n",
    "<b>3 3 3 3</b> <br/>\n",
    "1 <b>6 6 6</b> <br/>\n",
    "2 5 <b>4 4</b> <br/>\n",
    "5 7 2 <b>5</b> <br/>\n",
    "</p>\n",
    "</i>"
   ]
  },
  {
   "cell_type": "code",
   "execution_count": 63,
   "metadata": {},
   "outputs": [],
   "source": [
    "def lee_matriz():\n",
    "    matriz = []\n",
    "    for i in range(0, n):\n",
    "        fila = []\n",
    "        for j in range(0, n):\n",
    "            fila.append(int(input()))\n",
    "        matriz.append(fila)\n",
    "    return matriz"
   ]
  },
  {
   "cell_type": "code",
   "execution_count": 64,
   "metadata": {},
   "outputs": [
    {
     "name": "stdout",
     "output_type": "stream",
     "text": [
      "3\n",
      "3\n",
      "3\n",
      "3\n",
      "1\n",
      "6\n",
      "6\n",
      "6\n",
      "2\n",
      "5\n",
      "4\n",
      "4\n",
      "5\n",
      "7\n",
      "2\n",
      "5\n"
     ]
    }
   ],
   "source": [
    "M = lee_matriz()"
   ]
  },
  {
   "cell_type": "code",
   "execution_count": 65,
   "metadata": {},
   "outputs": [
    {
     "name": "stdout",
     "output_type": "stream",
     "text": [
      "Todos los valores de cada fila son iguales entre sí a partir de la diagonal principal\n"
     ]
    }
   ],
   "source": [
    "i = 1\n",
    "while i < n-1 and IGUALES(M, i, i):\n",
    "    i += 1\n",
    "\n",
    "respuesta = IGUALES(M, i, i)\n",
    "if respuesta is True:\n",
    "    print('Todos los valores de cada fila son iguales entre sí a partir de la diagonal principal')\n",
    "else:\n",
    "     print('No todos los valores de cada fila son iguales entre sí a partir de la diagonal principal')"
   ]
  },
  {
   "cell_type": "markdown",
   "metadata": {},
   "source": [
    "### Ejercicio 1 en el exámen del 6/6/2015"
   ]
  },
  {
   "cell_type": "markdown",
   "metadata": {},
   "source": [
    "<i>Diseña un programa que permita multiplicar dos matrices cuadradas de dimensión N\n",
    "(constante conocida). Para ello haz uso de los siguientes procedimientos y funciones:</i>\n",
    "\n",
    "* Diseña un procedimiento llamado <b>LeeMatriz</b> que lea una matriz M(NxN).\n",
    "* Diseña un procedimiento llamado <b>ExtraerFila</b> que reciba una matriz M y\n",
    "número entero F y devuelva la F-ésima fila de la matriz M en forma de vector.\n",
    "* Diseña un procedimiento llamado <b>ExtraerColumna</b>que reciba una matriz M y\n",
    "un número entero C y devuelva la C-ésima columna de la matriz M en forma de\n",
    "vector.\n",
    "* Diseña una función llamada <b>ProductoEscalar</b> que reciba dos vectores A y B y\n",
    "devuelva como resultado su producto escalar (la suma del producto elemento por\n",
    "elemento de los dos vectores).\n",
    "* Diseña un procedimiento llamado <b>ProductoDeMatrices</b> que reciba como\n",
    "entrada dos matrices M1(NxN) y M2(NxN) y calcule el producto de las dos\n",
    "matrices, devolviendo como resultado la matriz resultante. Para ello, debe\n",
    "recorrerse cada posición de la matriz resultante tomando la fila\n",
    "correspondiente de M1, la columna correspondiente de M2 y obteniendo su\n",
    "producto escalar.\n",
    "* Diseña un procedimiento llamado <b>EscribeMatriz</b> que escriba una matriz\n",
    "M(NxN) por pantalla."
   ]
  },
  {
   "cell_type": "markdown",
   "metadata": {},
   "source": [
    "Ejemplo: <br/>\n",
    "$M1 = \\quad\n",
    "\\begin{pmatrix}\n",
    "5 & 6 \\\\\n",
    "3 & 7\n",
    "\\end{pmatrix}\n",
    "\\quad$\n",
    "\n",
    "$M2 = \\quad\n",
    "\\begin{pmatrix}\n",
    "3 & 2 \\\\\n",
    "1 & 5\n",
    "\\end{pmatrix}\n",
    "\\quad\n",
    "$<br/>\n",
    "$M1 \\times M2 =\n",
    "\\quad\n",
    "\\begin{pmatrix}\n",
    "21 & 40 \\\\\n",
    "16 & 41\n",
    "\\end{pmatrix}\n",
    "\\quad$"
   ]
  },
  {
   "cell_type": "code",
   "execution_count": 40,
   "metadata": {},
   "outputs": [],
   "source": [
    "def LeeMatriz(N):\n",
    "    M = []\n",
    "    for i in range(0, N):\n",
    "        fila = []\n",
    "        for j in range(0, N):\n",
    "            fila.append(int(input()))\n",
    "        M.append(fila)\n",
    "    return M"
   ]
  },
  {
   "cell_type": "code",
   "execution_count": 41,
   "metadata": {},
   "outputs": [],
   "source": [
    "def ExtraerFila(M, F):\n",
    "    return M[F]"
   ]
  },
  {
   "cell_type": "code",
   "execution_count": 42,
   "metadata": {},
   "outputs": [],
   "source": [
    "def ExtraerColumna(M, C):\n",
    "    columna = []\n",
    "    for fila in M:\n",
    "        columna.append(fila[C])\n",
    "    return columna"
   ]
  },
  {
   "cell_type": "code",
   "execution_count": 43,
   "metadata": {},
   "outputs": [],
   "source": [
    "def ProductoEscalar(A, B):\n",
    "    N = len(A)\n",
    "    p = 0\n",
    "    for i in range(0, N):\n",
    "        p += A[i] * B[i]\n",
    "    return p"
   ]
  },
  {
   "cell_type": "code",
   "execution_count": 44,
   "metadata": {},
   "outputs": [],
   "source": [
    "def ProductoDeMatrices(M1, M2):\n",
    "    N = len(M1)\n",
    "    M3 = []\n",
    "    for i in range(0, N):\n",
    "        fila = []\n",
    "        for j in range(0, N):\n",
    "            fila.append(ProductoEscalar( ExtraerFila(M1, i), ExtraerColumna(M2, j)  ))\n",
    "        M3.append(fila)\n",
    "    return M3"
   ]
  },
  {
   "cell_type": "code",
   "execution_count": 45,
   "metadata": {},
   "outputs": [],
   "source": [
    "def EscribeMatriz(M):\n",
    "    N = len(M)\n",
    "    for i in range(0, N):\n",
    "        for j in range(0, N):\n",
    "            print(M[i][j], end='  ')\n",
    "        print()"
   ]
  },
  {
   "cell_type": "code",
   "execution_count": 10,
   "metadata": {},
   "outputs": [
    {
     "name": "stdout",
     "output_type": "stream",
     "text": [
      "5\n",
      "6\n",
      "3\n",
      "7\n"
     ]
    }
   ],
   "source": [
    "N = 2\n",
    "M1 = LeeMatriz(N)"
   ]
  },
  {
   "cell_type": "code",
   "execution_count": 31,
   "metadata": {},
   "outputs": [
    {
     "name": "stdout",
     "output_type": "stream",
     "text": [
      "3\n",
      "2\n",
      "1\n",
      "5\n"
     ]
    }
   ],
   "source": [
    "M2 = LeeMatriz(N)"
   ]
  },
  {
   "cell_type": "code",
   "execution_count": 32,
   "metadata": {},
   "outputs": [
    {
     "name": "stdout",
     "output_type": "stream",
     "text": [
      "5  6  \n",
      "3  7  \n"
     ]
    }
   ],
   "source": [
    "EscribeMatriz(M1)"
   ]
  },
  {
   "cell_type": "code",
   "execution_count": 33,
   "metadata": {},
   "outputs": [
    {
     "name": "stdout",
     "output_type": "stream",
     "text": [
      "3  2  \n",
      "1  5  \n"
     ]
    }
   ],
   "source": [
    "EscribeMatriz(M2)"
   ]
  },
  {
   "cell_type": "code",
   "execution_count": 46,
   "metadata": {},
   "outputs": [
    {
     "name": "stdout",
     "output_type": "stream",
     "text": [
      "21  40  \n",
      "16  41  \n"
     ]
    }
   ],
   "source": [
    "EscribeMatriz(ProductoDeMatrices(M1, M2))"
   ]
  },
  {
   "cell_type": "markdown",
   "metadata": {},
   "source": [
    "### Ejercicio 2 en el exámen del 6/6/2015"
   ]
  },
  {
   "cell_type": "markdown",
   "metadata": {},
   "source": [
    "Para poder diseñar el programa principal escribe los siguientes procedimientos y\n",
    "funciones: <br/>\n",
    "* Diseña un procedimiento llamado <b>LeeMatriz</b> que lea una matriz M(NxN) de\n",
    "caracteres\n",
    "* Diseña un procedimiento llamado <b>LeeVector</b> que lea un vector V(N) de\n",
    "números enteros entre 1 y N.\n",
    "* Diseña una función llamada <b>ExtraePalabra</b> que reciba como entrada una matriz\n",
    "M(NxN) y dos vectores de enteros F(N) y C(N), y devuelva un vector de\n",
    "caracteres donde cada posición i debe almacenar el carácter que aparece en la\n",
    "posición de la matriz dada por los valores en la posición correspondiente (i) de\n",
    "los vectores F y C.\n",
    "* Diseña una función booleana llamada <b>Palíndroma</b> que indique si una palabra de\n",
    "entrada dada (vector de caracteres) es palíndroma o no. Una palabra es\n",
    "palíndroma si se lee de igual forma hacia adelante que hacia atrás.\n",
    "* Finalmente, escribe el programa principal que debe hacer uso de los\n",
    "procedimientos y funciones anteriores para leer una matriz de caracteres y dos\n",
    "vectores de números, extraer la palabra indicada por los vectores de la matriz y\n",
    "dar a conocer si dicha palabra es palíndroma o no."
   ]
  },
  {
   "cell_type": "markdown",
   "metadata": {},
   "source": [
    "Ejemplo 1:"
   ]
  },
  {
   "cell_type": "markdown",
   "metadata": {},
   "source": [
    "M =<br/>\n",
    "a b c f<br/>\n",
    "u g f z<br/>\n",
    "a d v b<br/>\n",
    "o z i g<br/>\n",
    "F = 1 2 4 2<br/>\n",
    "C = 1 4 3 4<br/>\n",
    "Palabra extraída: a z i z<br/>\n",
    "Salida: No es palíndroma"
   ]
  },
  {
   "cell_type": "markdown",
   "metadata": {},
   "source": [
    "Ejemplo 2:<br/>\n",
    "M =\n",
    "a b c f<br/>\n",
    "u g f z<br/>\n",
    "a d v b<br/>\n",
    "o z i g<br/>\n",
    "F = 1 2 4 3<br/>\n",
    "C = 1 4 2 1<br/>\n",
    "Palabra extraída : a z z a <br/>\n",
    "Salida: Es palíndroma"
   ]
  },
  {
   "cell_type": "code",
   "execution_count": 48,
   "metadata": {},
   "outputs": [],
   "source": [
    "def LeeMatriz(N):\n",
    "    M = []\n",
    "    for i in range(0, N):\n",
    "        fila = []\n",
    "        for j in range(0, N):\n",
    "            fila.append(input())\n",
    "        M.append(fila)\n",
    "    return M"
   ]
  },
  {
   "cell_type": "code",
   "execution_count": 49,
   "metadata": {},
   "outputs": [],
   "source": [
    "def LeeVector(N):\n",
    "    V = []\n",
    "    for i in range(0, N):\n",
    "        V.append(int(input()))\n",
    "    return V"
   ]
  },
  {
   "cell_type": "code",
   "execution_count": 63,
   "metadata": {},
   "outputs": [],
   "source": [
    "def ExtraePalabra(M, F, C):\n",
    "    N = len(M)\n",
    "    palabra = []\n",
    "    for i in range(0, N):\n",
    "        palabra.append(M[F[i]-1][C[i]-1])\n",
    "    return palabra"
   ]
  },
  {
   "cell_type": "code",
   "execution_count": 70,
   "metadata": {},
   "outputs": [],
   "source": [
    "def Palindroma(M):\n",
    "    N = len(M)\n",
    "    for i in range(0, N//2):\n",
    "        if M[i] != M[N-i-1]:\n",
    "            return False\n",
    "    return True"
   ]
  },
  {
   "cell_type": "markdown",
   "metadata": {},
   "source": [
    "<b>Ejemplo 1</b>"
   ]
  },
  {
   "cell_type": "code",
   "execution_count": 53,
   "metadata": {},
   "outputs": [
    {
     "name": "stdout",
     "output_type": "stream",
     "text": [
      "a\n",
      "b\n",
      "c\n",
      "f\n",
      "u\n",
      "g\n",
      "f\n",
      "z\n",
      "a\n",
      "d\n",
      "v\n",
      "b\n",
      "o\n",
      "z\n",
      "i\n",
      "g\n"
     ]
    }
   ],
   "source": [
    "N = 4\n",
    "M = LeeMatriz(N)"
   ]
  },
  {
   "cell_type": "code",
   "execution_count": 56,
   "metadata": {},
   "outputs": [
    {
     "name": "stdout",
     "output_type": "stream",
     "text": [
      "1\n",
      "2\n",
      "4\n",
      "2\n"
     ]
    }
   ],
   "source": [
    "F = LeeVector(N)"
   ]
  },
  {
   "cell_type": "code",
   "execution_count": 57,
   "metadata": {},
   "outputs": [
    {
     "name": "stdout",
     "output_type": "stream",
     "text": [
      "1\n",
      "4\n",
      "2\n",
      "1\n"
     ]
    }
   ],
   "source": [
    "C = LeeVector(N)"
   ]
  },
  {
   "cell_type": "code",
   "execution_count": 54,
   "metadata": {},
   "outputs": [
    {
     "data": {
      "text/plain": [
       "[['a', 'b', 'c', 'f'],\n",
       " ['u', 'g', 'f', 'z'],\n",
       " ['a', 'd', 'v', 'b'],\n",
       " ['o', 'z', 'i', 'g']]"
      ]
     },
     "execution_count": 54,
     "metadata": {},
     "output_type": "execute_result"
    }
   ],
   "source": [
    "M"
   ]
  },
  {
   "cell_type": "code",
   "execution_count": 58,
   "metadata": {},
   "outputs": [
    {
     "data": {
      "text/plain": [
       "[1, 2, 4, 2]"
      ]
     },
     "execution_count": 58,
     "metadata": {},
     "output_type": "execute_result"
    }
   ],
   "source": [
    "F"
   ]
  },
  {
   "cell_type": "code",
   "execution_count": 59,
   "metadata": {},
   "outputs": [
    {
     "data": {
      "text/plain": [
       "[1, 4, 2, 1]"
      ]
     },
     "execution_count": 59,
     "metadata": {},
     "output_type": "execute_result"
    }
   ],
   "source": [
    "C"
   ]
  },
  {
   "cell_type": "code",
   "execution_count": 66,
   "metadata": {},
   "outputs": [
    {
     "data": {
      "text/plain": [
       "['a', 'z', 'z', 'u']"
      ]
     },
     "execution_count": 66,
     "metadata": {},
     "output_type": "execute_result"
    }
   ],
   "source": [
    "palabra = ExtraePalabra(M, F, C)\n",
    "palabra"
   ]
  },
  {
   "cell_type": "code",
   "execution_count": 71,
   "metadata": {},
   "outputs": [
    {
     "data": {
      "text/plain": [
       "False"
      ]
     },
     "execution_count": 71,
     "metadata": {},
     "output_type": "execute_result"
    }
   ],
   "source": [
    "Palindroma(palabra)"
   ]
  },
  {
   "cell_type": "markdown",
   "metadata": {},
   "source": [
    "<b>Ejemplo 2</b>"
   ]
  },
  {
   "cell_type": "code",
   "execution_count": 74,
   "metadata": {},
   "outputs": [
    {
     "name": "stdout",
     "output_type": "stream",
     "text": [
      "1\n",
      "2\n",
      "4\n",
      "3\n"
     ]
    }
   ],
   "source": [
    "F = LeeVector(N)"
   ]
  },
  {
   "cell_type": "code",
   "execution_count": 75,
   "metadata": {},
   "outputs": [
    {
     "name": "stdout",
     "output_type": "stream",
     "text": [
      "1\n",
      "4\n",
      "2\n",
      "1\n"
     ]
    }
   ],
   "source": [
    "C = LeeVector(N)"
   ]
  },
  {
   "cell_type": "code",
   "execution_count": 77,
   "metadata": {},
   "outputs": [
    {
     "data": {
      "text/plain": [
       "['a', 'z', 'z', 'a']"
      ]
     },
     "execution_count": 77,
     "metadata": {},
     "output_type": "execute_result"
    }
   ],
   "source": [
    "palabra = ExtraePalabra(M, F, C)\n",
    "palabra"
   ]
  },
  {
   "cell_type": "code",
   "execution_count": 78,
   "metadata": {},
   "outputs": [
    {
     "data": {
      "text/plain": [
       "True"
      ]
     },
     "execution_count": 78,
     "metadata": {},
     "output_type": "execute_result"
    }
   ],
   "source": [
    "Palindroma(palabra)"
   ]
  },
  {
   "cell_type": "markdown",
   "metadata": {},
   "source": [
    "### Ejercicio 1 en el exámen 24/1/2018"
   ]
  },
  {
   "cell_type": "markdown",
   "metadata": {},
   "source": [
    "<i>Este programa estudiará el nivel de coincidencia de dos matrices de números enteros.\n",
    "Dos matrices A y B (NxN, N constante conocida) tienen nivel T de coincidencia si hay\n",
    "exactamente T posiciones de A y B cuyos valores coinciden:</i> <br/>\n",
    "* Escribe un procedimiento <b>LeeMatriz</b> que lea una matriz M(NxN)\n",
    "* El procedimiento <b>LeeVector</b> leerá un vector de enteros V(M), M constante\n",
    "conocida.\n",
    "* Diseña una función <b>CoincidenMatrices</b> que tome dos matrices A y B y nos diga\n",
    "cuántas posiciones de ambas matrices tienen valores coincidentes.\n",
    "* Diseña ahora una función booleana <b>CoincideT</b> que tome dos matrices A y B, y un\n",
    "valor entero T y utilizando la función anterior nos diga si hay exactamente T\n",
    "posiciones coincidentes en las dos matrices.\n",
    "* La función <b>PosCoincidentes</b> tomará dos matrices A y B y un vector V y nos\n",
    "devolverá la posición del vector donde esté el número de coincidencias entre ambas\n",
    "matrices. Para hacerlo, deberás recorrer el vector y utilizar la función CoincideT. Si\n",
    "el número de coincidencias no está en el vector, devolverá 0 y si está repetido en el\n",
    "vector, la posición de la primera aparición."
   ]
  },
  {
   "cell_type": "markdown",
   "metadata": {},
   "source": [
    "Completa el ejercicio con un programa principal que lea las dos matrices y el vector y\n",
    "nos diga si en alguna de las posiciones del vector está el número de coincidencias de las\n",
    "dos matrices<br/>\n",
    "Ejemplo: Si las matrices de entrada y el vector son: <br/>\n",
    "A <br/>\n",
    "21  12    0   3 <br/>\n",
    "8    9   16  16 <br/>\n",
    "15   8  112  19 <br/>\n",
    "12   7   18   2 <br/>\n",
    "B <br/>\n",
    "21  10  20  3 <br/>\n",
    "18   9  16  6 <br/>\n",
    "5   78  12  9 <br/>\n",
    "7   17  33  2 <br/>\n",
    "V <br/>\n",
    "3 7 5 10 2 1"
   ]
  },
  {
   "cell_type": "markdown",
   "metadata": {},
   "source": [
    "La respuesta será: <i>En la posición 3 del vector está el número de coincidencias de las matrices</i>"
   ]
  },
  {
   "cell_type": "code",
   "execution_count": 81,
   "metadata": {},
   "outputs": [],
   "source": [
    "N = 4"
   ]
  },
  {
   "cell_type": "code",
   "execution_count": 82,
   "metadata": {},
   "outputs": [],
   "source": [
    "def LeeMatriz():\n",
    "    M = []\n",
    "    for i in range(0, N):\n",
    "        fila = []\n",
    "        for j in range(0, N):\n",
    "            fila.append(int(input()))\n",
    "        M.append(fila)\n",
    "    return M"
   ]
  },
  {
   "cell_type": "code",
   "execution_count": 94,
   "metadata": {},
   "outputs": [],
   "source": [
    "M = 6"
   ]
  },
  {
   "cell_type": "code",
   "execution_count": 95,
   "metadata": {},
   "outputs": [],
   "source": [
    "def LeeVector():\n",
    "    V = []\n",
    "    for i in range(0, M):\n",
    "        V.append(int(input()))\n",
    "    return V"
   ]
  },
  {
   "cell_type": "code",
   "execution_count": 85,
   "metadata": {},
   "outputs": [],
   "source": [
    "def CoincidenMatrices(A, B):\n",
    "    contador = 0\n",
    "    for i in range(0, N):\n",
    "        for j in range(0, N):\n",
    "            if A[i][j] == B[i][j]:\n",
    "                contador += 1\n",
    "    return contador"
   ]
  },
  {
   "cell_type": "code",
   "execution_count": 86,
   "metadata": {},
   "outputs": [],
   "source": [
    "def CoincideT(A, B, T):\n",
    "    return CoincidenMatrices(A, B) == T"
   ]
  },
  {
   "cell_type": "code",
   "execution_count": 88,
   "metadata": {},
   "outputs": [],
   "source": [
    "def PosCoincidentes(A, B, V):\n",
    "    for i in range(0, M):\n",
    "        if CoincideT(A, B, V[i]):\n",
    "            return i+1\n",
    "    return 0"
   ]
  },
  {
   "cell_type": "code",
   "execution_count": 89,
   "metadata": {},
   "outputs": [
    {
     "name": "stdout",
     "output_type": "stream",
     "text": [
      "21\n",
      "12\n",
      "0\n",
      "3\n",
      "8\n",
      "9\n",
      "16\n",
      "16\n",
      "15\n",
      "8\n",
      "112\n",
      "19\n",
      "12\n",
      "7\n",
      "18\n",
      "2\n"
     ]
    }
   ],
   "source": [
    "A = LeeMatriz()"
   ]
  },
  {
   "cell_type": "code",
   "execution_count": 90,
   "metadata": {},
   "outputs": [
    {
     "name": "stdout",
     "output_type": "stream",
     "text": [
      "21\n",
      "10\n",
      "20\n",
      "3\n",
      "18\n",
      "9\n",
      "16\n",
      "6\n",
      "5\n",
      "78\n",
      "12\n",
      "9\n",
      "7\n",
      "17\n",
      "33\n",
      "2\n"
     ]
    }
   ],
   "source": [
    "B = LeeMatriz()"
   ]
  },
  {
   "cell_type": "code",
   "execution_count": 96,
   "metadata": {},
   "outputs": [
    {
     "name": "stdout",
     "output_type": "stream",
     "text": [
      "3\n",
      "7\n",
      "5\n",
      "10\n",
      "2\n",
      "1\n"
     ]
    }
   ],
   "source": [
    "V = LeeVector()"
   ]
  },
  {
   "cell_type": "code",
   "execution_count": 98,
   "metadata": {},
   "outputs": [
    {
     "name": "stdout",
     "output_type": "stream",
     "text": [
      "En la posición 3 del vector está el número de coincidencias de las matrices\n"
     ]
    }
   ],
   "source": [
    "P = PosCoincidentes(A, B, V)\n",
    "if P == 0:\n",
    "    print(\"Ningun elemento del vector V es igual al numero de posiciones coincidentes entre A y B\")\n",
    "else:\n",
    "    print(\"En la posición {} del vector está el número de coincidencias de las matrices\".format(P))"
   ]
  },
  {
   "cell_type": "markdown",
   "metadata": {},
   "source": [
    "\n",
    "### Ejercicio 2 en el exámen 24/1/2018"
   ]
  },
  {
   "cell_type": "markdown",
   "metadata": {},
   "source": [
    "<i>Escribe los siguientes procedimientos y funciones:\n",
    "* Un procedimiento <b>LeeMatriz</b> que lea del usuario NxN números enteros (N\n",
    "constante conocida) y los almacene en una matriz.\n",
    "* Una función <b>ExtraeDiagonalPrincipal</b> que devuelva la diagonal principal de\n",
    "una matriz de entrada M en forma de vector.\n",
    "* Un procedimiento <b>ExtraeDiagonalSecundaria</b> que devuelva la diagonal\n",
    "secundaria de una matriz de entrada M en forma de vector.\n",
    "* Un procedimiento <b>ComparaVectores</b> que reciba dos vectores de entrada V1 y\n",
    "V2 de dimensión N y devuelva dos nuevos vectores (PAR, IMPAR), así como\n",
    "el número de elementos almacenados en cada uno de estos vectores (TamPar,\n",
    "TamImpar). Para ello, deben compararse los elementos de V1 y V2 elemento a\n",
    "elemento y guardar en los vectores la división entera del elemento en V1 entre el\n",
    "de V2. La división se guardará en el vector PAR si el resto de la división entre\n",
    "los dos elementos es par y en IMPAR en otro caso.\n",
    "* Un procedimiento EscribeVector que reciba un vector y el número de\n",
    "elementos almacenados en él y muestre por pantalla dichos números en una\n",
    "única fila.\n",
    "</i>"
   ]
  },
  {
   "cell_type": "markdown",
   "metadata": {},
   "source": [
    "Utilizando los procedimientos y funciones anteriores, crea un programa que lea dos\n",
    "matrices de números enteros, extraiga la diagonal principal de la primera matriz y la\n",
    "secundaria de la segunda y, posteriormente, compare las dos diagonales obteniendo\n",
    "los vectores PAR e IMPAR. Finalmente muestra el contenido de dichos vectores\n",
    "por pantalla."
   ]
  },
  {
   "cell_type": "markdown",
   "metadata": {},
   "source": [
    "Ejemplo: Si las matrices de entrada son:"
   ]
  },
  {
   "cell_type": "markdown",
   "metadata": {},
   "source": [
    "M1 <br/>\n",
    "1   4   7   3 <br/>\n",
    "10  9   5   3 <br/>\n",
    "3   12  14  0 <br/>\n",
    "2   5   4   11 <br/>\n",
    "\n",
    "M2 <br/>\n",
    "6   3   5   4 <br/>\n",
    "7   8   3   12 <br/>\n",
    "9   3   3   3 <br/>\n",
    "2   0  11  25 <br/>"
   ]
  },
  {
   "cell_type": "markdown",
   "metadata": {},
   "source": [
    "Las diagonales serán: <br/>\n",
    "DiagM1 = 1  9 14 11 <br/>\n",
    "DiagM2 = 4  3 3 2"
   ]
  },
  {
   "cell_type": "markdown",
   "metadata": {},
   "source": [
    "Y los vectores: <br/>\n",
    "PAR = 3 4 <br/>\n",
    "IMPAR = 0 2"
   ]
  },
  {
   "cell_type": "code",
   "execution_count": 101,
   "metadata": {},
   "outputs": [],
   "source": [
    "N = 4"
   ]
  },
  {
   "cell_type": "code",
   "execution_count": 102,
   "metadata": {},
   "outputs": [],
   "source": [
    "def LeeMatriz():\n",
    "    M = []\n",
    "    for i in range(0, N):\n",
    "        fila = []\n",
    "        for j in range(0, N):\n",
    "            fila.append(int(input()))\n",
    "        M.append(fila)\n",
    "    return M"
   ]
  },
  {
   "cell_type": "code",
   "execution_count": 103,
   "metadata": {},
   "outputs": [],
   "source": [
    "def ExtraeDiagonalPrincipal(M):\n",
    "    diagonal = []\n",
    "    for i in range(0, N):\n",
    "        diagonal.append(M[i][i])\n",
    "    return diagonal"
   ]
  },
  {
   "cell_type": "code",
   "execution_count": 104,
   "metadata": {},
   "outputs": [],
   "source": [
    "def ExtraeDiagonalSecundaria(M):\n",
    "    diagonal = []\n",
    "    for i in range(0, N):\n",
    "        diagonal.append(M[N-i-1][i])\n",
    "    return diagonal"
   ]
  },
  {
   "cell_type": "code",
   "execution_count": 120,
   "metadata": {},
   "outputs": [],
   "source": [
    "def ComparaVectores(V1, V2):\n",
    "    par, impar = [], []\n",
    "    for i in range(0, N):\n",
    "        a, b = V1[i], V2[i]\n",
    "        c = a // b\n",
    "        if (a % b) % 2 == 0:\n",
    "            par.append(c)\n",
    "        else:\n",
    "            impar.append(c)\n",
    "    return par, impar"
   ]
  },
  {
   "cell_type": "code",
   "execution_count": 116,
   "metadata": {},
   "outputs": [],
   "source": [
    "def EscribeVector(V):\n",
    "    for i in range(0, N):\n",
    "        print(i, end='  ')"
   ]
  },
  {
   "cell_type": "code",
   "execution_count": 117,
   "metadata": {},
   "outputs": [
    {
     "name": "stdout",
     "output_type": "stream",
     "text": [
      "1\n",
      "4\n",
      "7\n",
      "3\n",
      "10\n",
      "9\n",
      "5\n",
      "3\n",
      "3\n",
      "12\n",
      "14\n",
      "0\n",
      "2\n",
      "5\n",
      "4\n",
      "11\n"
     ]
    }
   ],
   "source": [
    "M1 = LeeMatriz()"
   ]
  },
  {
   "cell_type": "code",
   "execution_count": 109,
   "metadata": {},
   "outputs": [
    {
     "name": "stdout",
     "output_type": "stream",
     "text": [
      "6\n",
      "3\n",
      "5\n",
      "4\n",
      "7\n",
      "8\n",
      "3\n",
      "12\n",
      "9\n",
      "3\n",
      "3\n",
      "3\n",
      "2\n",
      "0\n",
      "11\n",
      "25\n"
     ]
    }
   ],
   "source": [
    "M2 = LeeMatriz()"
   ]
  },
  {
   "cell_type": "code",
   "execution_count": 111,
   "metadata": {},
   "outputs": [
    {
     "data": {
      "text/plain": [
       "[1, 9, 14, 11]"
      ]
     },
     "execution_count": 111,
     "metadata": {},
     "output_type": "execute_result"
    }
   ],
   "source": [
    "DiagM1 = ExtraeDiagonalPrincipal(M1)\n",
    "DiagM1"
   ]
  },
  {
   "cell_type": "code",
   "execution_count": 112,
   "metadata": {},
   "outputs": [
    {
     "data": {
      "text/plain": [
       "[2, 3, 3, 4]"
      ]
     },
     "execution_count": 112,
     "metadata": {},
     "output_type": "execute_result"
    }
   ],
   "source": [
    "DiagM2 = ExtraeDiagonalSecundaria(M2)\n",
    "DiagM2"
   ]
  },
  {
   "cell_type": "code",
   "execution_count": 121,
   "metadata": {},
   "outputs": [],
   "source": [
    "PAR, IMPAR = ComparaVectores(DiagM1, DiagM2)"
   ]
  },
  {
   "cell_type": "code",
   "execution_count": 122,
   "metadata": {},
   "outputs": [
    {
     "data": {
      "text/plain": [
       "[3, 4]"
      ]
     },
     "execution_count": 122,
     "metadata": {},
     "output_type": "execute_result"
    }
   ],
   "source": [
    "PAR"
   ]
  },
  {
   "cell_type": "code",
   "execution_count": 123,
   "metadata": {},
   "outputs": [
    {
     "data": {
      "text/plain": [
       "[0, 2]"
      ]
     },
     "execution_count": 123,
     "metadata": {},
     "output_type": "execute_result"
    }
   ],
   "source": [
    "IMPAR"
   ]
  },
  {
   "cell_type": "code",
   "execution_count": null,
   "metadata": {},
   "outputs": [],
   "source": []
  }
 ],
 "metadata": {
  "kernelspec": {
   "display_name": "Python 3",
   "language": "python",
   "name": "python3"
  },
  "language_info": {
   "codemirror_mode": {
    "name": "ipython",
    "version": 3
   },
   "file_extension": ".py",
   "mimetype": "text/x-python",
   "name": "python",
   "nbconvert_exporter": "python",
   "pygments_lexer": "ipython3",
   "version": "3.7.5"
  }
 },
 "nbformat": 4,
 "nbformat_minor": 2
}
