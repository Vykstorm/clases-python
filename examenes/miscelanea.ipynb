{
 "cells": [
  {
   "cell_type": "markdown",
   "metadata": {},
   "source": [
    "## Ejercicio 1 en el exámen del 23/1/2015"
   ]
  },
  {
   "cell_type": "markdown",
   "metadata": {},
   "source": [
    "Lee una secuencia de caracteres ‘+’,’-‘,’*’ desde teclado que termine cuando hayas leído más\n",
    "número de ‘+’ que de ‘-‘. Cuenta el número de pares ‘+-‘ que aparecen en la secuencia leída y\n",
    "muestra el resultado."
   ]
  },
  {
   "cell_type": "code",
   "execution_count": 2,
   "metadata": {},
   "outputs": [
    {
     "name": "stdout",
     "output_type": "stream",
     "text": [
      "-\n",
      "-\n",
      "+\n",
      "*\n",
      "+\n",
      "-\n",
      "+\n",
      "-\n",
      "*\n",
      "+\n",
      "-\n",
      "+\n",
      "+\n",
      "Hay 3 pares +-\n"
     ]
    }
   ],
   "source": [
    "numero_pares = 0\n",
    "n = 0\n",
    "\n",
    "caracter_previo = ''\n",
    "\n",
    "while n <= 0:\n",
    "    caracter = input()\n",
    "    if caracter == '+':\n",
    "        n += 1\n",
    "    elif caracter == '-':\n",
    "        n -= 1\n",
    "        if caracter_previo == '+':\n",
    "            numero_pares += 1\n",
    "    caracter_previo = caracter\n",
    "\n",
    "print('Hay {} pares +-'.format(numero_pares))"
   ]
  },
  {
   "cell_type": "code",
   "execution_count": null,
   "metadata": {},
   "outputs": [],
   "source": []
  }
 ],
 "metadata": {
  "kernelspec": {
   "display_name": "Python 3",
   "language": "python",
   "name": "python3"
  },
  "language_info": {
   "codemirror_mode": {
    "name": "ipython",
    "version": 3
   },
   "file_extension": ".py",
   "mimetype": "text/x-python",
   "name": "python",
   "nbconvert_exporter": "python",
   "pygments_lexer": "ipython3",
   "version": "3.7.5"
  }
 },
 "nbformat": 4,
 "nbformat_minor": 2
}
