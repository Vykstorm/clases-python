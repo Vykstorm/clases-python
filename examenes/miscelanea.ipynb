{
 "cells": [
  {
   "cell_type": "markdown",
   "metadata": {},
   "source": [
    "## Ejercicio 1 en el exámen del 23/1/2015"
   ]
  },
  {
   "cell_type": "markdown",
   "metadata": {},
   "source": [
    "Lee una secuencia de caracteres ‘+’,’-‘,’*’ desde teclado que termine cuando hayas leído más\n",
    "número de ‘+’ que de ‘-‘. Cuenta el número de pares ‘+-‘ que aparecen en la secuencia leída y\n",
    "muestra el resultado."
   ]
  },
  {
   "cell_type": "code",
   "execution_count": 2,
   "metadata": {},
   "outputs": [
    {
     "name": "stdout",
     "output_type": "stream",
     "text": [
      "-\n",
      "-\n",
      "+\n",
      "*\n",
      "+\n",
      "-\n",
      "+\n",
      "-\n",
      "*\n",
      "+\n",
      "-\n",
      "+\n",
      "+\n",
      "Hay 3 pares +-\n"
     ]
    }
   ],
   "source": [
    "numero_pares = 0\n",
    "n = 0\n",
    "\n",
    "caracter_previo = ''\n",
    "\n",
    "while n <= 0:\n",
    "    caracter = input()\n",
    "    if caracter == '+':\n",
    "        n += 1\n",
    "    elif caracter == '-':\n",
    "        n -= 1\n",
    "        if caracter_previo == '+':\n",
    "            numero_pares += 1\n",
    "    caracter_previo = caracter\n",
    "\n",
    "print('Hay {} pares +-'.format(numero_pares))"
   ]
  },
  {
   "cell_type": "markdown",
   "metadata": {},
   "source": [
    "## Ejercicio 3 en el exámen 15/6/2015"
   ]
  },
  {
   "cell_type": "markdown",
   "metadata": {},
   "source": [
    "Diseña un procedimiento que tome dos vectores de enteros <b>A</b> y <b>B</b> de tamaño <b>N</b> (N constante conocida) y un valor entero <b>K menor que N</b> y compare las posiciones de <b>A</b> a partir de la <b>K</b> con las de <b>B</b> a partir de la primera, llevando a un vector <b>C</b> los valores coincidentes"
   ]
  },
  {
   "cell_type": "markdown",
   "metadata": {},
   "source": [
    "Ejemplo: K=3 <br>\n",
    "A = 3 1 7 2 9 4 5 6 1 8 <br>\n",
    "B =     1 2 1 3 5 1 7 8 3 2 <br>\n",
    "El vector que se obtiene es: <br>\n",
    "C =       2     5     8"
   ]
  },
  {
   "cell_type": "markdown",
   "metadata": {},
   "source": [
    "Completa ahora el programa con un procedimiento que lea un vector y otro que escriba un vector, para finalmente, leer los vectores <b>A</b> y <b>B</b>, construir C y mostrar el resultado"
   ]
  },
  {
   "cell_type": "code",
   "execution_count": 1,
   "metadata": {},
   "outputs": [],
   "source": [
    "N = 10"
   ]
  },
  {
   "cell_type": "code",
   "execution_count": 2,
   "metadata": {},
   "outputs": [],
   "source": [
    "def LeerVector():\n",
    "    return [int(valor) for valor in input().split()]"
   ]
  },
  {
   "cell_type": "code",
   "execution_count": 3,
   "metadata": {},
   "outputs": [],
   "source": [
    "def EscribeVector(V):\n",
    "    print(*V)"
   ]
  },
  {
   "cell_type": "code",
   "execution_count": 4,
   "metadata": {},
   "outputs": [
    {
     "name": "stdout",
     "output_type": "stream",
     "text": [
      "3 1 7 2 9 4 5 6 1 8 \n"
     ]
    }
   ],
   "source": [
    "A = LeerVector()"
   ]
  },
  {
   "cell_type": "code",
   "execution_count": 5,
   "metadata": {},
   "outputs": [
    {
     "name": "stdout",
     "output_type": "stream",
     "text": [
      "1 2 1 3 5 1 7 8 3 2 \n"
     ]
    }
   ],
   "source": [
    "B = LeerVector()"
   ]
  },
  {
   "cell_type": "code",
   "execution_count": 7,
   "metadata": {},
   "outputs": [
    {
     "name": "stdout",
     "output_type": "stream",
     "text": [
      "3\n"
     ]
    }
   ],
   "source": [
    "K = int(input())"
   ]
  },
  {
   "cell_type": "code",
   "execution_count": 13,
   "metadata": {},
   "outputs": [
    {
     "name": "stdout",
     "output_type": "stream",
     "text": [
      "2 5 8\n"
     ]
    }
   ],
   "source": [
    "C = []\n",
    "for i in range(K-1, N):\n",
    "    if A[i] == B[i-K+1]:\n",
    "        C.append(A[i])\n",
    "EscribeVector(C)"
   ]
  },
  {
   "cell_type": "code",
   "execution_count": null,
   "metadata": {},
   "outputs": [],
   "source": []
  }
 ],
 "metadata": {
  "kernelspec": {
   "display_name": "Python 3",
   "language": "python",
   "name": "python3"
  },
  "language_info": {
   "codemirror_mode": {
    "name": "ipython",
    "version": 3
   },
   "file_extension": ".py",
   "mimetype": "text/x-python",
   "name": "python",
   "nbconvert_exporter": "python",
   "pygments_lexer": "ipython3",
   "version": "3.7.5"
  }
 },
 "nbformat": 4,
 "nbformat_minor": 2
}
